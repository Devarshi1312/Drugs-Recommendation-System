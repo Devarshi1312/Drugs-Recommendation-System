{
 "cells": [
  {
   "cell_type": "code",
   "execution_count": 1,
   "metadata": {
    "colab": {
     "base_uri": "https://localhost:8080/"
    },
    "id": "VXgENWBFS5l7",
    "outputId": "f21e4fce-c76d-45b2-a54c-3e1d6a513a5c"
   },
   "outputs": [
    {
     "name": "stderr",
     "output_type": "stream",
     "text": [
      "[nltk_data] Downloading package punkt to\n",
      "[nltk_data]     C:\\Users\\DELL\\AppData\\Roaming\\nltk_data...\n",
      "[nltk_data]   Package punkt is already up-to-date!\n",
      "[nltk_data] Downloading package stopwords to\n",
      "[nltk_data]     C:\\Users\\DELL\\AppData\\Roaming\\nltk_data...\n",
      "[nltk_data]   Package stopwords is already up-to-date!\n"
     ]
    }
   ],
   "source": [
    "import pandas as pd\n",
    "import numpy as np\n",
    "import seaborn as sns\n",
    "import matplotlib.pyplot as plt\n",
    "from wordcloud import WordCloud\n",
    "from textblob import TextBlob\n",
    "from nltk.corpus import stopwords\n",
    "from collections import Counter\n",
    "import warnings; warnings.filterwarnings('ignore')\n",
    "import nltk\n",
    "import re\n",
    "import string\n",
    "from string import punctuation\n",
    "from nltk import ngrams\n",
    "from nltk.tokenize import word_tokenize \n",
    "from nltk.stem import SnowballStemmer\n",
    "\n",
    "from sklearn import model_selection\n",
    "from sklearn.linear_model import LogisticRegression\n",
    "from sklearn.tree import DecisionTreeClassifier\n",
    "from sklearn.neighbors import KNeighborsClassifier\n",
    "from sklearn.discriminant_analysis import LinearDiscriminantAnalysis\n",
    "from sklearn.naive_bayes import GaussianNB\n",
    "from sklearn.ensemble import RandomForestClassifier\n",
    "\n",
    "from sklearn.preprocessing import LabelEncoder\n",
    "from xgboost import XGBClassifier\n",
    "from lightgbm import LGBMClassifier, plot_importance\n",
    "from sklearn.metrics import confusion_matrix, accuracy_score, classification_report\n",
    "from sklearn.model_selection import train_test_split\n",
    "import spacy\n",
    "\n",
    "\n",
    "from nltk import word_tokenize\n",
    "from nltk.corpus import stopwords\n",
    "from nltk.stem.porter import PorterStemmer\n",
    "from nltk import pos_tag\n",
    "nltk.download('punkt')\n",
    "nltk.download('stopwords')\n",
    "\n",
    "nlp = spacy.load('en_core_web_sm', disable=['parser', 'ner'])\n",
    "exclude_list = ['but','no','because','against','not','than']\n",
    "stop_words = set(stopwords.words('english'))\n",
    "stop_words.difference_update(exclude_list)\n",
    "#punctuation = punctuation + '\"\"“”’' + '∞θ÷α•à−β∅³π‘₹´°£€\\×™√²—–&'"
   ]
  },
  {
   "cell_type": "code",
   "execution_count": null,
   "metadata": {
    "id": "yX7g_1imszrf"
   },
   "outputs": [],
   "source": []
  },
  {
   "cell_type": "markdown",
   "metadata": {
    "id": "tbEYfSQxS5mC"
   },
   "source": [
    "## preparing data"
   ]
  },
  {
   "cell_type": "code",
   "execution_count": 2,
   "metadata": {
    "colab": {
     "base_uri": "https://localhost:8080/"
    },
    "id": "EYos9rs6S5mE",
    "outputId": "c5f8da3e-f41b-4779-c7c0-47ffef2ffe9e"
   },
   "outputs": [
    {
     "name": "stdout",
     "output_type": "stream",
     "text": [
      "The shape of the train set given is :  (161297, 7)\n",
      "The shape of the test set given is :  (53766, 7)\n"
     ]
    }
   ],
   "source": [
    "df_train = pd.read_csv(r'drugsComTrain_raw.csv')\n",
    "df_test = pd.read_csv(r'drugsComTest_raw.csv')\n",
    "\n",
    "print (\"The shape of the train set given is : \", df_train.shape)\n",
    "print (\"The shape of the test set given is : \", df_test.shape)"
   ]
  },
  {
   "cell_type": "code",
   "execution_count": null,
   "metadata": {
    "id": "wI_Oujo4nzjn"
   },
   "outputs": [],
   "source": []
  },
  {
   "cell_type": "code",
   "execution_count": 3,
   "metadata": {
    "colab": {
     "base_uri": "https://localhost:8080/",
     "height": 323
    },
    "id": "zANYjPiSS5mF",
    "outputId": "8abdc6c3-9b54-4ac5-d065-128ea5b8e109"
   },
   "outputs": [
    {
     "name": "stdout",
     "output_type": "stream",
     "text": [
      "(215063, 7)\n"
     ]
    },
    {
     "data": {
      "text/html": [
       "<div>\n",
       "<style scoped>\n",
       "    .dataframe tbody tr th:only-of-type {\n",
       "        vertical-align: middle;\n",
       "    }\n",
       "\n",
       "    .dataframe tbody tr th {\n",
       "        vertical-align: top;\n",
       "    }\n",
       "\n",
       "    .dataframe thead th {\n",
       "        text-align: right;\n",
       "    }\n",
       "</style>\n",
       "<table border=\"1\" class=\"dataframe\">\n",
       "  <thead>\n",
       "    <tr style=\"text-align: right;\">\n",
       "      <th></th>\n",
       "      <th>uniqueID</th>\n",
       "      <th>drugName</th>\n",
       "      <th>condition</th>\n",
       "      <th>review</th>\n",
       "      <th>rating</th>\n",
       "      <th>date</th>\n",
       "      <th>usefulCount</th>\n",
       "    </tr>\n",
       "  </thead>\n",
       "  <tbody>\n",
       "    <tr>\n",
       "      <th>0</th>\n",
       "      <td>206461</td>\n",
       "      <td>Valsartan</td>\n",
       "      <td>Left Ventricular Dysfunction</td>\n",
       "      <td>\"It has no side effect, I take it in combinati...</td>\n",
       "      <td>9</td>\n",
       "      <td>20-May-12</td>\n",
       "      <td>27</td>\n",
       "    </tr>\n",
       "    <tr>\n",
       "      <th>1</th>\n",
       "      <td>95260</td>\n",
       "      <td>Guanfacine</td>\n",
       "      <td>ADHD</td>\n",
       "      <td>\"My son is halfway through his fourth week of ...</td>\n",
       "      <td>8</td>\n",
       "      <td>27-Apr-10</td>\n",
       "      <td>192</td>\n",
       "    </tr>\n",
       "    <tr>\n",
       "      <th>2</th>\n",
       "      <td>92703</td>\n",
       "      <td>Lybrel</td>\n",
       "      <td>Birth Control</td>\n",
       "      <td>\"I used to take another oral contraceptive, wh...</td>\n",
       "      <td>5</td>\n",
       "      <td>14-Dec-09</td>\n",
       "      <td>17</td>\n",
       "    </tr>\n",
       "    <tr>\n",
       "      <th>3</th>\n",
       "      <td>138000</td>\n",
       "      <td>Ortho Evra</td>\n",
       "      <td>Birth Control</td>\n",
       "      <td>\"This is my first time using any form of birth...</td>\n",
       "      <td>8</td>\n",
       "      <td>03-Nov-15</td>\n",
       "      <td>10</td>\n",
       "    </tr>\n",
       "    <tr>\n",
       "      <th>4</th>\n",
       "      <td>35696</td>\n",
       "      <td>Buprenorphine / naloxone</td>\n",
       "      <td>Opiate Dependence</td>\n",
       "      <td>\"Suboxone has completely turned my life around...</td>\n",
       "      <td>9</td>\n",
       "      <td>27-Nov-16</td>\n",
       "      <td>37</td>\n",
       "    </tr>\n",
       "  </tbody>\n",
       "</table>\n",
       "</div>"
      ],
      "text/plain": [
       "   uniqueID                  drugName                     condition  \\\n",
       "0    206461                 Valsartan  Left Ventricular Dysfunction   \n",
       "1     95260                Guanfacine                          ADHD   \n",
       "2     92703                    Lybrel                 Birth Control   \n",
       "3    138000                Ortho Evra                 Birth Control   \n",
       "4     35696  Buprenorphine / naloxone             Opiate Dependence   \n",
       "\n",
       "                                              review  rating       date  \\\n",
       "0  \"It has no side effect, I take it in combinati...       9  20-May-12   \n",
       "1  \"My son is halfway through his fourth week of ...       8  27-Apr-10   \n",
       "2  \"I used to take another oral contraceptive, wh...       5  14-Dec-09   \n",
       "3  \"This is my first time using any form of birth...       8  03-Nov-15   \n",
       "4  \"Suboxone has completely turned my life around...       9  27-Nov-16   \n",
       "\n",
       "   usefulCount  \n",
       "0           27  \n",
       "1          192  \n",
       "2           17  \n",
       "3           10  \n",
       "4           37  "
      ]
     },
     "execution_count": 3,
     "metadata": {},
     "output_type": "execute_result"
    }
   ],
   "source": [
    "# Merging the test and train data \n",
    "df_data = pd.concat([df_train, df_test])\n",
    "\n",
    "print (df_data.shape)\n",
    "\n",
    "df_data.head()"
   ]
  },
  {
   "cell_type": "code",
   "execution_count": 4,
   "metadata": {
    "id": "LQv3mbq5S5mH"
   },
   "outputs": [],
   "source": [
    "df_data.columns = df_data.columns.str.lower()"
   ]
  },
  {
   "cell_type": "code",
   "execution_count": 5,
   "metadata": {
    "colab": {
     "base_uri": "https://localhost:8080/"
    },
    "id": "8kSf0O8qS5mH",
    "outputId": "6d367ca5-25eb-46e2-e2ee-5e11f98a292e"
   },
   "outputs": [
    {
     "data": {
      "text/plain": [
       "Index(['uniqueid', 'drugname', 'condition', 'review', 'rating', 'date',\n",
       "       'usefulcount'],\n",
       "      dtype='object')"
      ]
     },
     "execution_count": 5,
     "metadata": {},
     "output_type": "execute_result"
    }
   ],
   "source": [
    "df_data.columns"
   ]
  },
  {
   "cell_type": "markdown",
   "metadata": {
    "id": "65JqFvNxS5mI"
   },
   "source": [
    "## knowing the data"
   ]
  },
  {
   "cell_type": "code",
   "execution_count": 6,
   "metadata": {
    "colab": {
     "base_uri": "https://localhost:8080/"
    },
    "id": "Y0X5sYMwS5mL",
    "outputId": "c74efc8c-f417-461a-c301-c04ca1f0630e"
   },
   "outputs": [
    {
     "name": "stdout",
     "output_type": "stream",
     "text": [
      "<class 'pandas.core.frame.DataFrame'>\n",
      "Int64Index: 215063 entries, 0 to 53765\n",
      "Data columns (total 7 columns):\n",
      " #   Column       Non-Null Count   Dtype \n",
      "---  ------       --------------   ----- \n",
      " 0   uniqueid     215063 non-null  int64 \n",
      " 1   drugname     215063 non-null  object\n",
      " 2   condition    213869 non-null  object\n",
      " 3   review       215063 non-null  object\n",
      " 4   rating       215063 non-null  int64 \n",
      " 5   date         215063 non-null  object\n",
      " 6   usefulcount  215063 non-null  int64 \n",
      "dtypes: int64(3), object(4)\n",
      "memory usage: 13.1+ MB\n"
     ]
    }
   ],
   "source": [
    "df_data.info()"
   ]
  },
  {
   "cell_type": "code",
   "execution_count": 7,
   "metadata": {
    "colab": {
     "base_uri": "https://localhost:8080/"
    },
    "id": "MhTDjcdiS5mN",
    "outputId": "03bc4055-3d86-4f61-b077-5f24ff9b951d"
   },
   "outputs": [
    {
     "name": "stdout",
     "output_type": "stream",
     "text": [
      "number of numeric variables are  3\n",
      "number of categorical variables are  4\n"
     ]
    }
   ],
   "source": [
    "cat = []\n",
    "num = []\n",
    "for i in df_data.columns:\n",
    "    if df_data[i].dtypes=='object':\n",
    "        cat.append(i)\n",
    "    else:\n",
    "        num.append(i)\n",
    "print('number of numeric variables are ',len(num))\n",
    "print('number of categorical variables are ',len(cat))"
   ]
  },
  {
   "cell_type": "code",
   "execution_count": 8,
   "metadata": {
    "colab": {
     "base_uri": "https://localhost:8080/",
     "height": 294
    },
    "id": "IkxcNbmAS5mP",
    "outputId": "c0313fa6-3ac9-419d-9d9c-2d39b24766fe"
   },
   "outputs": [
    {
     "data": {
      "text/html": [
       "<div>\n",
       "<style scoped>\n",
       "    .dataframe tbody tr th:only-of-type {\n",
       "        vertical-align: middle;\n",
       "    }\n",
       "\n",
       "    .dataframe tbody tr th {\n",
       "        vertical-align: top;\n",
       "    }\n",
       "\n",
       "    .dataframe thead th {\n",
       "        text-align: right;\n",
       "    }\n",
       "</style>\n",
       "<table border=\"1\" class=\"dataframe\">\n",
       "  <thead>\n",
       "    <tr style=\"text-align: right;\">\n",
       "      <th></th>\n",
       "      <th>uniqueid</th>\n",
       "      <th>rating</th>\n",
       "      <th>usefulcount</th>\n",
       "    </tr>\n",
       "  </thead>\n",
       "  <tbody>\n",
       "    <tr>\n",
       "      <th>count</th>\n",
       "      <td>215063.000000</td>\n",
       "      <td>215063.000000</td>\n",
       "      <td>215063.000000</td>\n",
       "    </tr>\n",
       "    <tr>\n",
       "      <th>mean</th>\n",
       "      <td>116039.364814</td>\n",
       "      <td>6.990008</td>\n",
       "      <td>28.001004</td>\n",
       "    </tr>\n",
       "    <tr>\n",
       "      <th>std</th>\n",
       "      <td>67007.913366</td>\n",
       "      <td>3.275554</td>\n",
       "      <td>36.346069</td>\n",
       "    </tr>\n",
       "    <tr>\n",
       "      <th>min</th>\n",
       "      <td>0.000000</td>\n",
       "      <td>1.000000</td>\n",
       "      <td>0.000000</td>\n",
       "    </tr>\n",
       "    <tr>\n",
       "      <th>25%</th>\n",
       "      <td>58115.500000</td>\n",
       "      <td>5.000000</td>\n",
       "      <td>6.000000</td>\n",
       "    </tr>\n",
       "    <tr>\n",
       "      <th>50%</th>\n",
       "      <td>115867.000000</td>\n",
       "      <td>8.000000</td>\n",
       "      <td>16.000000</td>\n",
       "    </tr>\n",
       "    <tr>\n",
       "      <th>75%</th>\n",
       "      <td>173963.500000</td>\n",
       "      <td>10.000000</td>\n",
       "      <td>36.000000</td>\n",
       "    </tr>\n",
       "    <tr>\n",
       "      <th>max</th>\n",
       "      <td>232291.000000</td>\n",
       "      <td>10.000000</td>\n",
       "      <td>1291.000000</td>\n",
       "    </tr>\n",
       "  </tbody>\n",
       "</table>\n",
       "</div>"
      ],
      "text/plain": [
       "            uniqueid         rating    usefulcount\n",
       "count  215063.000000  215063.000000  215063.000000\n",
       "mean   116039.364814       6.990008      28.001004\n",
       "std     67007.913366       3.275554      36.346069\n",
       "min         0.000000       1.000000       0.000000\n",
       "25%     58115.500000       5.000000       6.000000\n",
       "50%    115867.000000       8.000000      16.000000\n",
       "75%    173963.500000      10.000000      36.000000\n",
       "max    232291.000000      10.000000    1291.000000"
      ]
     },
     "execution_count": 8,
     "metadata": {},
     "output_type": "execute_result"
    }
   ],
   "source": [
    "df_data.describe()"
   ]
  },
  {
   "cell_type": "markdown",
   "metadata": {
    "id": "WoenO8h3S5mQ"
   },
   "source": [
    "## Null value treatment"
   ]
  },
  {
   "cell_type": "code",
   "execution_count": 9,
   "metadata": {
    "colab": {
     "base_uri": "https://localhost:8080/"
    },
    "id": "5PpzIzYJS5mQ",
    "outputId": "936f1f12-0d99-495e-c846-99c68a72d59c"
   },
   "outputs": [
    {
     "data": {
      "text/plain": [
       "uniqueid          0\n",
       "drugname          0\n",
       "condition      1194\n",
       "review            0\n",
       "rating            0\n",
       "date              0\n",
       "usefulcount       0\n",
       "dtype: int64"
      ]
     },
     "execution_count": 9,
     "metadata": {},
     "output_type": "execute_result"
    }
   ],
   "source": [
    "df_data.isnull().sum()"
   ]
  },
  {
   "cell_type": "code",
   "execution_count": 10,
   "metadata": {
    "colab": {
     "base_uri": "https://localhost:8080/",
     "height": 263
    },
    "id": "2p0z6ECqS5mR",
    "outputId": "c88f1be9-ddef-48f0-dbbb-9d6a53cfa375"
   },
   "outputs": [
    {
     "data": {
      "text/html": [
       "<div>\n",
       "<style scoped>\n",
       "    .dataframe tbody tr th:only-of-type {\n",
       "        vertical-align: middle;\n",
       "    }\n",
       "\n",
       "    .dataframe tbody tr th {\n",
       "        vertical-align: top;\n",
       "    }\n",
       "\n",
       "    .dataframe thead th {\n",
       "        text-align: right;\n",
       "    }\n",
       "</style>\n",
       "<table border=\"1\" class=\"dataframe\">\n",
       "  <thead>\n",
       "    <tr style=\"text-align: right;\">\n",
       "      <th></th>\n",
       "      <th>column_name</th>\n",
       "      <th>percent_missing</th>\n",
       "    </tr>\n",
       "  </thead>\n",
       "  <tbody>\n",
       "    <tr>\n",
       "      <th>uniqueid</th>\n",
       "      <td>uniqueid</td>\n",
       "      <td>0.000000</td>\n",
       "    </tr>\n",
       "    <tr>\n",
       "      <th>drugname</th>\n",
       "      <td>drugname</td>\n",
       "      <td>0.000000</td>\n",
       "    </tr>\n",
       "    <tr>\n",
       "      <th>condition</th>\n",
       "      <td>condition</td>\n",
       "      <td>0.555186</td>\n",
       "    </tr>\n",
       "    <tr>\n",
       "      <th>review</th>\n",
       "      <td>review</td>\n",
       "      <td>0.000000</td>\n",
       "    </tr>\n",
       "    <tr>\n",
       "      <th>rating</th>\n",
       "      <td>rating</td>\n",
       "      <td>0.000000</td>\n",
       "    </tr>\n",
       "    <tr>\n",
       "      <th>date</th>\n",
       "      <td>date</td>\n",
       "      <td>0.000000</td>\n",
       "    </tr>\n",
       "    <tr>\n",
       "      <th>usefulcount</th>\n",
       "      <td>usefulcount</td>\n",
       "      <td>0.000000</td>\n",
       "    </tr>\n",
       "  </tbody>\n",
       "</table>\n",
       "</div>"
      ],
      "text/plain": [
       "             column_name  percent_missing\n",
       "uniqueid        uniqueid         0.000000\n",
       "drugname        drugname         0.000000\n",
       "condition      condition         0.555186\n",
       "review            review         0.000000\n",
       "rating            rating         0.000000\n",
       "date                date         0.000000\n",
       "usefulcount  usefulcount         0.000000"
      ]
     },
     "execution_count": 10,
     "metadata": {},
     "output_type": "execute_result"
    }
   ],
   "source": [
    "percent_missing = df_data.isnull().sum() * 100 / len(df_data)\n",
    "missing_value_df = pd.DataFrame({'column_name': df_data.columns, 'percent_missing': percent_missing})\n",
    "missing_value_df"
   ]
  },
  {
   "cell_type": "markdown",
   "metadata": {
    "id": "LCgNPK18S5mS"
   },
   "source": [
    "###### condition column has less than 0.6% of data as null, so we can directly drop the null data."
   ]
  },
  {
   "cell_type": "code",
   "execution_count": 11,
   "metadata": {
    "colab": {
     "base_uri": "https://localhost:8080/"
    },
    "id": "LuDTPT4NS5mT",
    "outputId": "20871f77-8ff0-44b2-eae9-9266e5e75157"
   },
   "outputs": [
    {
     "name": "stdout",
     "output_type": "stream",
     "text": [
      "Shape of df before dropping null values  (215063, 7)\n",
      "Shape of df after dropping null values  (213869, 7)\n"
     ]
    }
   ],
   "source": [
    "print('Shape of df before dropping null values ',df_data.shape)\n",
    "df_data.dropna(inplace=True)\n",
    "df_data.reset_index(drop=True)\n",
    "print('Shape of df after dropping null values ',df_data.shape)"
   ]
  },
  {
   "cell_type": "markdown",
   "metadata": {
    "id": "UinrXRA1S5mV"
   },
   "source": [
    "## Converting date related columns to required datatypes"
   ]
  },
  {
   "cell_type": "code",
   "execution_count": 12,
   "metadata": {
    "id": "ofYcUMtwS5mW"
   },
   "outputs": [],
   "source": [
    "#date is not in datetime format, need to convert it\n",
    "df_data['date'] = pd.to_datetime(df_data['date'])"
   ]
  },
  {
   "cell_type": "markdown",
   "metadata": {
    "id": "6akFMbdpS5mW"
   },
   "source": [
    "## Inferential Statistics"
   ]
  },
  {
   "cell_type": "code",
   "execution_count": 13,
   "metadata": {
    "colab": {
     "base_uri": "https://localhost:8080/"
    },
    "id": "YSuS82d6S5mX",
    "outputId": "c4f3b1d0-2b18-4811-845a-1afda6a9f0cc"
   },
   "outputs": [
    {
     "data": {
      "text/plain": [
       "uniqueid       213869\n",
       "drugname         3667\n",
       "condition         916\n",
       "review         128449\n",
       "rating             10\n",
       "date             3579\n",
       "usefulcount       397\n",
       "dtype: int64"
      ]
     },
     "execution_count": 13,
     "metadata": {},
     "output_type": "execute_result"
    }
   ],
   "source": [
    "df_data.nunique()"
   ]
  },
  {
   "cell_type": "code",
   "execution_count": 14,
   "metadata": {
    "colab": {
     "base_uri": "https://localhost:8080/"
    },
    "id": "6NpSpnJIS5mY",
    "outputId": "c35597f9-e53a-457b-d81d-d71c5ea88448"
   },
   "outputs": [
    {
     "data": {
      "text/plain": [
       "Birth Control      38436\n",
       "Depression         12164\n",
       "Pain                8245\n",
       "Anxiety             7812\n",
       "Acne                7435\n",
       "Bipolar Disorde     5604\n",
       "Insomnia            4904\n",
       "Weight Loss         4857\n",
       "Obesity             4757\n",
       "ADHD                4509\n",
       "Name: condition, dtype: int64"
      ]
     },
     "execution_count": 14,
     "metadata": {},
     "output_type": "execute_result"
    }
   ],
   "source": [
    "# Some of the conditions that people are suffering with\n",
    "df_data['condition'].value_counts().head(10)"
   ]
  },
  {
   "cell_type": "code",
   "execution_count": 15,
   "metadata": {
    "colab": {
     "base_uri": "https://localhost:8080/",
     "height": 523
    },
    "id": "CvV1MpalS5mZ",
    "outputId": "10900c5f-5745-4e55-b08d-40f624d607e7"
   },
   "outputs": [
    {
     "data": {
      "image/png": "[encoded data removed]",
      "text/plain": [
       "<Figure size 432x288 with 1 Axes>"
      ]
     },
     "metadata": {
      "needs_background": "light"
     },
     "output_type": "display_data"
    }
   ],
   "source": [
    "import seaborn as sns\n",
    "import matplotlib.pyplot as plt\n",
    "\n",
    "# Set seaborn font scale and style\n",
    "sns.set(font_scale=1.2, style='darkgrid')\n",
    "\n",
    "# Set matplotlib figure size\n",
    "plt.rcParams['figure.figsize'] = [15, 8]\n",
    "\n",
    "# Create a dictionary with top 10 conditions and their counts\n",
    "top_conditions = df_data['condition'].value_counts().head(10).to_dict()\n",
    "\n",
    "# Create bar plot\n",
    "fig = sns.barplot(x=list(top_conditions.keys()), y=list(top_conditions.values()))\n",
    "\n",
    "# Set title and axis labels\n",
    "fig.set_title(\"Top 10 Conditions\")\n",
    "fig.set_xlabel(\"Conditions\")\n",
    "fig.set_ylabel(\"Count\")\n",
    "\n",
    "# Rotate x-axis labels for better readability if necessary\n",
    "plt.xticks(rotation=45)\n",
    "\n",
    "# Show plot\n",
    "plt.show()\n"
   ]
  },
  {
   "cell_type": "code",
   "execution_count": 16,
   "metadata": {
    "colab": {
     "base_uri": "https://localhost:8080/"
    },
    "id": "2vnxuwxAS5ma",
    "outputId": "98e26b0f-04cd-4ba5-ab89-74a20dc170a9"
   },
   "outputs": [
    {
     "data": {
      "text/plain": [
       "Levonorgestrel                       1883\n",
       "Phentermine                          1079\n",
       "Etonogestrel                          864\n",
       "Varenicline                           662\n",
       "Ethinyl estradiol / norethindrone     601\n",
       "Escitalopram                          596\n",
       "Clonazepam                            586\n",
       "Alprazolam                            565\n",
       "Sertraline                            550\n",
       "Plan B                                527\n",
       "Name: drugname, dtype: int64"
      ]
     },
     "execution_count": 16,
     "metadata": {},
     "output_type": "execute_result"
    }
   ],
   "source": [
    "# Top 10 drugs which got good rating(10)\n",
    "df_data.loc[df_data['rating'] == 10]['drugname'].value_counts().head(10)"
   ]
  },
  {
   "cell_type": "code",
   "execution_count": 17,
   "metadata": {
    "colab": {
     "base_uri": "https://localhost:8080/",
     "height": 458
    },
    "id": "qNbd0xvmS5mb",
    "outputId": "5e93e45b-5431-467b-f464-6e010f11719b"
   },
   "outputs": [
    {
     "data": {
      "image/png": "[encoded data removed]",
      "text/plain": [
       "<Figure size 1440x576 with 1 Axes>"
      ]
     },
     "metadata": {},
     "output_type": "display_data"
    }
   ],
   "source": [
    "import seaborn as sns\n",
    "import matplotlib.pyplot as plt\n",
    "\n",
    "# Set seaborn font scale and style\n",
    "sns.set(font_scale=1.2, style='darkgrid')\n",
    "\n",
    "# Set matplotlib figure size\n",
    "plt.rcParams['figure.figsize'] = [20, 8]\n",
    "\n",
    "# Filter the DataFrame to get drugs with rating 10, count their occurrences, and select the top 10\n",
    "top_drugs = df_data[df_data['rating'] == 10]['drugname'].value_counts().head(10)\n",
    "\n",
    "# Create bar plot\n",
    "fig = sns.barplot(x=top_drugs.index, y=top_drugs.values)\n",
    "\n",
    "# Set title and axis labels\n",
    "fig.set_title(\"Top 10 Drugs for Rating 10\")\n",
    "fig.set_xlabel(\"Drugs\")\n",
    "fig.set_ylabel(\"Rating Count\")\n",
    "\n",
    "# Rotate x-axis labels for better readability\n",
    "plt.xticks(rotation=30)\n",
    "\n",
    "# Show plot\n",
    "plt.show()\n"
   ]
  },
  {
   "cell_type": "code",
   "execution_count": 18,
   "metadata": {
    "colab": {
     "base_uri": "https://localhost:8080/"
    },
    "id": "kcvCCJt6S5mc",
    "outputId": "0bf0ed16-e97e-49e0-8289-214f0f25e3c9"
   },
   "outputs": [
    {
     "data": {
      "text/plain": [
       "Miconazole                            767\n",
       "Ethinyl estradiol / norethindrone     728\n",
       "Etonogestrel                          707\n",
       "Levonorgestrel                        511\n",
       "Nexplanon                             504\n",
       "Ethinyl estradiol / norgestimate      464\n",
       "Medroxyprogesterone                   443\n",
       "Depo-Provera                          417\n",
       "Tioconazole                           410\n",
       "Ethinyl estradiol / levonorgestrel    385\n",
       "Name: drugname, dtype: int64"
      ]
     },
     "execution_count": 18,
     "metadata": {},
     "output_type": "execute_result"
    }
   ],
   "source": [
    "# 10 drugs which users are not satisfied with and given 1 ating\n",
    "df_data.loc[df_data['rating'] == 1]['drugname'].value_counts().head(10)"
   ]
  },
  {
   "cell_type": "code",
   "execution_count": 19,
   "metadata": {
    "colab": {
     "base_uri": "https://localhost:8080/",
     "height": 446
    },
    "id": "MDsnVT9pS5md",
    "outputId": "e3d1a670-ea86-44c7-986b-eedc48a500c1",
    "scrolled": false
   },
   "outputs": [
    {
     "data": {
      "image/png": "[encoded data removed]",
      "text/plain": [
       "<Figure size 1440x576 with 1 Axes>"
      ]
     },
     "metadata": {},
     "output_type": "display_data"
    }
   ],
   "source": [
    "import seaborn as sns\n",
    "import matplotlib.pyplot as plt\n",
    "\n",
    "# Set seaborn font scale and style\n",
    "sns.set(font_scale=1.2, style='darkgrid')\n",
    "\n",
    "# Set matplotlib figure size\n",
    "plt.rcParams['figure.figsize'] = [20, 8]\n",
    "\n",
    "# Filter the DataFrame to get drugs with rating 1, count their occurrences, and select the top 10\n",
    "top_drugs = df_data[df_data['rating'] == 1]['drugname'].value_counts().head(10)\n",
    "\n",
    "# Create bar plot\n",
    "fig = sns.barplot(x=top_drugs.index, y=top_drugs.values)\n",
    "\n",
    "# Set title and axis labels\n",
    "fig.set_title(\"Top 10 Drugs for Rating 1\")\n",
    "fig.set_xlabel(\"Drugs\")\n",
    "fig.set_ylabel(\"Rating Count\")\n",
    "\n",
    "# Rotate x-axis labels for better readability\n",
    "plt.xticks(rotation=30)\n",
    "\n",
    "# Show plot\n",
    "plt.show()\n"
   ]
  },
  {
   "cell_type": "code",
   "execution_count": 20,
   "metadata": {
    "colab": {
     "base_uri": "https://localhost:8080/",
     "height": 489
    },
    "id": "rIgX4UfjS5mf",
    "outputId": "d5ca81f0-7773-47fa-c998-641e513e62b8"
   },
   "outputs": [
    {
     "data": {
      "image/png": "[encoded data removed]",
      "text/plain": [
       "<Figure size 1080x576 with 1 Axes>"
      ]
     },
     "metadata": {},
     "output_type": "display_data"
    }
   ],
   "source": [
    "sns.set(font_scale = 1.2, style = 'darkgrid')\n",
    "plt.rcParams['figure.figsize'] = [15, 8]\n",
    "\n",
    "fig = sns.histplot(data=df_data, x=\"rating\", kde=True)\n",
    "fig.set_title(\"Ratings count\")\n",
    "fig.set_xlabel(\"Rating\")\n",
    "fig.set_ylabel(\"Count for each rating\");"
   ]
  },
  {
   "cell_type": "code",
   "execution_count": 21,
   "metadata": {
    "colab": {
     "base_uri": "https://localhost:8080/",
     "height": 593
    },
    "id": "d57g9Mp6S5mg",
    "outputId": "c879542c-40cd-4a92-c4dc-9b542a7eaf00"
   },
   "outputs": [
    {
     "data": {
      "image/png": "[encoded data removed]",
      "text/plain": [
       "<Figure size 1368x504 with 1 Axes>"
      ]
     },
     "metadata": {},
     "output_type": "display_data"
    }
   ],
   "source": [
    "df_data.groupby(['condition'])['drugname'].nunique().sort_values(ascending = False).head(40).plot.bar(figsize = (19, 7), color = 'green')\n",
    "plt.title('Most drugs available per Conditions in the Patients', fontsize = 30)\n",
    "plt.xlabel('Conditions', fontsize = 20)\n",
    "plt.ylabel('count')\n",
    "plt.show()"
   ]
  },
  {
   "cell_type": "code",
   "execution_count": 22,
   "metadata": {
    "id": "R3B7sCyyS5mg"
   },
   "outputs": [],
   "source": [
    "# now extracting year from date\n",
    "df_data['year'] = df_data['date'].dt.year\n",
    "\n",
    "# extracting the month from the date\n",
    "df_data['month'] = df_data['date'].dt.month\n",
    "\n",
    "# extracting the days from the date\n",
    "df_data['day'] = df_data['date'].dt.day"
   ]
  },
  {
   "cell_type": "code",
   "execution_count": 24,
   "metadata": {
    "colab": {
     "base_uri": "https://localhost:8080/",
     "height": 405
    },
    "id": "64L7ZokMS5mh",
    "outputId": "55dc9d67-a52d-4a22-a9cf-d8ec2c7b8f62"
   },
   "outputs": [
    {
     "data": {
      "image/png": "[encoded data removed]",
      "text/plain": [
       "<Figure size 1368x576 with 1 Axes>"
      ]
     },
     "metadata": {},
     "output_type": "display_data"
    }
   ],
   "source": [
    "# Check if 'year' column exists in df_data\n",
    "if 'year' in df_data.columns:\n",
    "    # Create the count plot using the 'year' column data\n",
    "    sns.countplot(x='year', data=df_data, palette='dark')\n",
    "\n",
    "    # Set title and axis labels\n",
    "    plt.title('The Number of Reviews in Each Year', fontsize=30)\n",
    "    plt.xlabel('Year', fontsize=15)\n",
    "    plt.ylabel('Count of Reviews', fontsize=15)\n",
    "\n",
    "    # Show plot\n",
    "    plt.show()\n",
    "else:\n",
    "    print(\"The 'year' column does not exist in the DataFrame.\")\n"
   ]
  },
  {
   "cell_type": "code",
   "execution_count": 26,
   "metadata": {
    "colab": {
     "base_uri": "https://localhost:8080/",
     "height": 409
    },
    "id": "86pfAho5S5mi",
    "outputId": "370ddff0-53f6-4c21-f190-2e1a796ba9be"
   },
   "outputs": [
    {
     "data": {
      "image/png": "[encoded data removed]",
      "text/plain": [
       "<Figure size 1368x576 with 1 Axes>"
      ]
     },
     "metadata": {},
     "output_type": "display_data"
    }
   ],
   "source": [
    "import seaborn as sns\n",
    "import matplotlib.pyplot as plt\n",
    "\n",
    "# Set the figure size\n",
    "plt.rcParams['figure.figsize'] = (19, 8)\n",
    "\n",
    "# Check if 'day' column exists in df_data\n",
    "if 'day' in df_data.columns:\n",
    "    # Create the count plot using the 'day' column data\n",
    "    sns.countplot(x='day', data=df_data, palette='colorblind')\n",
    "\n",
    "    # Set title and axis labels\n",
    "    plt.title('The Number of Reviews in Each Day', fontsize=30)\n",
    "    plt.xlabel('Days', fontsize=15)\n",
    "    plt.ylabel('Count of Reviews', fontsize=15)\n",
    "\n",
    "    # Show plot\n",
    "    plt.show()\n",
    "else:\n",
    "    print(\"The 'day' column does not exist in the DataFrame.\")\n"
   ]
  },
  {
   "cell_type": "markdown",
   "metadata": {
    "id": "FdLzUsH6EV8w"
   },
   "source": [
    "# Correlation Plot"
   ]
  },
  {
   "cell_type": "code",
   "execution_count": 27,
   "metadata": {
    "colab": {
     "base_uri": "https://localhost:8080/",
     "height": 417
    },
    "id": "NvZsqPz4S5ml",
    "outputId": "2efcb828-2c8f-4ad0-8ad5-599e7cf8bc85"
   },
   "outputs": [
    {
     "data": {
      "text/plain": [
       "<AxesSubplot:>"
      ]
     },
     "execution_count": 27,
     "metadata": {},
     "output_type": "execute_result"
    },
    {
     "data": {
      "image/png": "[encoded data removed]",
      "text/plain": [
       "<Figure size 1368x576 with 2 Axes>"
      ]
     },
     "metadata": {},
     "output_type": "display_data"
    }
   ],
   "source": [
    "sns.heatmap(df_data.corr(),annot=True)"
   ]
  },
  {
   "cell_type": "code",
   "execution_count": 28,
   "metadata": {
    "id": "WV6tqzLWS5ml"
   },
   "outputs": [],
   "source": [
    "df_data.reset_index(drop=True,inplace=True)"
   ]
  },
  {
   "cell_type": "code",
   "execution_count": null,
   "metadata": {
    "colab": {
     "base_uri": "https://localhost:8080/",
     "height": 449
    },
    "id": "sxAqTKWNS5mm",
    "outputId": "15470adc-8fab-4737-8bc7-01eb8cb9a239"
   },
   "outputs": [],
   "source": [
    "from wordcloud import WordCloud\n",
    "import matplotlib.pyplot as plt\n",
    "\n",
    "# Filter the DataFrame to get reviews with rating 10\n",
    "df_rate_ten = df_data.loc[df_data['rating'] == 10, 'review']\n",
    "\n",
    "# Check if df_rate_ten is not empty\n",
    "if not df_rate_ten.empty:\n",
    "    # Concatenate all reviews into a single string\n",
    "    k = ' '.join(df_rate_ten)\n",
    "\n",
    "    # Generate word cloud without specifying TrueType font\n",
    "    wordcloud = WordCloud(width=1000, height=500, background_color='white').generate(k)\n",
    "\n",
    "    # Plot word cloud\n",
    "    plt.figure(figsize=(15, 10))\n",
    "    plt.imshow(wordcloud, interpolation=\"bilinear\")\n",
    "    plt.axis('off')\n",
    "    plt.show()\n",
    "else:\n",
    "    print(\"No reviews with rating 10 found.\")\n"
   ]
  },
  {
   "cell_type": "code",
   "execution_count": null,
   "metadata": {
    "colab": {
     "base_uri": "https://localhost:8080/",
     "height": 449
    },
    "id": "wWAiPHv7S5mn",
    "outputId": "db462cf0-6be4-4840-fc82-061e43e90559"
   },
   "outputs": [],
   "source": [
    "# Word cloud of the reviews with rating equal to 1\n",
    "\n",
    "df_rate_one = df_data.loc[df_data.rating == 1, 'review']\n",
    "k1 = (' '.join(df_rate_one))\n",
    "\n",
    "wordcloud = WordCloud(width = 1000, height = 500).generate(k1)\n",
    "plt.figure(figsize=(15, 10))\n",
    "plt.imshow(wordcloud, interpolation=\"bilinear\")\n",
    "plt.axis('off');"
   ]
  },
  {
   "cell_type": "markdown",
   "metadata": {
    "id": "HdwTIKvNS5mo"
   },
   "source": [
    "### Text Preprocessing for Review Column"
   ]
  },
  {
   "cell_type": "code",
   "execution_count": null,
   "metadata": {
    "colab": {
     "base_uri": "https://localhost:8080/",
     "height": 86
    },
    "id": "fKPBvlFHS5mo",
    "outputId": "6cddb33b-ae90-4626-f540-9fe6535fe6f6",
    "scrolled": false
   },
   "outputs": [],
   "source": [
    "#single function for preprocessing using spacy but this is little slow\n",
    "'''\n",
    "def normalize(comment, lowercase, remove_stopwords):\n",
    "    if lowercase:\n",
    "        comment = comment.lower()\n",
    "    comment = nlp(comment)\n",
    "    lemmatized = list()\n",
    "    for word in comment:\n",
    "        lemma = word.lemma_.strip()\n",
    "        if lemma:\n",
    "            if not remove_stopwords or (remove_stopwords and lemma not in stops):\n",
    "                lemmatized.append(lemma)\n",
    "    return \" \".join(lemmatized)\n",
    "\n",
    "\n",
    "df_data['review_clean'] = df_data['review'].apply(normalize, lowercase=True, remove_stopwords=True)\n",
    "'''\n"
   ]
  },
  {
   "cell_type": "code",
   "execution_count": 33,
   "metadata": {
    "colab": {
     "base_uri": "https://localhost:8080/"
    },
    "id": "kGCykIL7S5mp",
    "outputId": "9c4d4319-a60b-4ae2-eb37-3bc5b3747874"
   },
   "outputs": [
    {
     "name": "stdout",
     "output_type": "stream",
     "text": [
      "no of rows with \"&#039\" character are  133540\n"
     ]
    }
   ],
   "source": [
    "lst = df_data['review'].tolist()\n",
    "matched_list = [ele for ele in lst if '&#039' in ele]\n",
    "print('no of rows with \"&#039\" character are ',len(matched_list))\n"
   ]
  },
  {
   "cell_type": "markdown",
   "metadata": {
    "id": "43mpIz_cS5mq"
   },
   "source": [
    "*By analyzing the review data we can observe that there is junk keyword which is repeated in more than half of the data but if we observe the context in which it appears, we can tell that its a quote \" ' \"*"
   ]
  },
  {
   "cell_type": "markdown",
   "metadata": {
    "id": "v9ujBfxwS5ms"
   },
   "source": [
    "#### converting the junk keyword"
   ]
  },
  {
   "cell_type": "code",
   "execution_count": 34,
   "metadata": {
    "id": "1_Uv__CGS5mt"
   },
   "outputs": [],
   "source": [
    "df_data['review'] = df_data['review'].str.replace('&#039;',\"'\")"
   ]
  },
  {
   "cell_type": "code",
   "execution_count": 35,
   "metadata": {
    "colab": {
     "base_uri": "https://localhost:8080/"
    },
    "id": "FB35IAQ_S5mu",
    "outputId": "fc4b4492-518a-4992-aebd-998f5958ffcc"
   },
   "outputs": [
    {
     "name": "stdout",
     "output_type": "stream",
     "text": [
      "0\n"
     ]
    },
    {
     "data": {
      "text/plain": [
       "[]"
      ]
     },
     "execution_count": 35,
     "metadata": {},
     "output_type": "execute_result"
    }
   ],
   "source": [
    "lst = df_data['review'].tolist()\n",
    "matched_list = [ele for ele in lst if '&#039' in ele]\n",
    "print(len(matched_list))\n",
    "matched_list"
   ]
  },
  {
   "cell_type": "code",
   "execution_count": 36,
   "metadata": {
    "id": "sZfReukxS5mv"
   },
   "outputs": [],
   "source": [
    "contractions_dict = {\n",
    "    \"ain't\": \"am not\", \"aren't\": \"are not\", \"can't\": \"cannot\", \"can't've\": \"cannot have\", \"'cause\": \"because\",\n",
    "    \"could've\": \"could have\", \"couldn't\": \"could not\", \"couldn't've\": \"could not have\", \"didn't\": \"did not\", \"doesn't\": \"does not\",\n",
    "    \"doesn’t\": \"does not\", \"don't\": \"do not\", \"don’t\": \"do not\", \"hadn't\": \"had not\", \"hadn't've\": \"had not have\", \"hasn't\": \"has not\",\n",
    "    \"haven't\": \"have not\", \"he'd\": \"he had\", \"he'd've\": \"he would have\", \"he'll\": \"he will\", \"he'll've\": \"he will have\", \"he's\": \"he is\",\n",
    "    \"how'd\": \"how did\", \"how'd'y\": \"how do you\", \"how'll\": \"how will\", \"how's\": \"how is\", \"i'd\": \"i would\", \"i'd've\": \"i would have\",\n",
    "    \"i'll\": \"i will\", \"i'll've\": \"i will have\", \"i'm\": \"i am\", \"i've\": \"i have\", \"isn't\": \"is not\", \"it'd\": \"it would\", \"it'd've\": \"it would have\",\n",
    "    \"it'll\": \"it will\", \"it'll've\": \"it will have\", \"it's\": \"it is\", \"let's\": \"let us\", \"ma'am\": \"madam\", \"mayn't\": \"may not\",\"might've\": \"might have\",\n",
    "    \"mightn't\": \"might not\", \"mightn't've\": \"might not have\", \"must've\": \"must have\", \"mustn't\": \"must not\", \"mustn't've\": \"must not have\",\n",
    "    \"needn't\": \"need not\", \"needn't've\": \"need not have\", \"o'clock\": \"of the clock\", \"oughtn't\": \"ought not\", \"oughtn't've\": \"ought not have\",\n",
    "    \"shan't\": \"shall not\",\"sha'n't\": \"shall not\", \"shan't've\": \"shall not have\", \"she'd\": \"she would\", \"she'd've\": \"she would have\",\n",
    "    \"she'll\": \"she will\", \"she'll've\": \"she will have\", \"she's\": \"she is\", \"should've\": \"should have\", \"shouldn't\": \"should not\",\n",
    "    \"shouldn't've\": \"should not have\", \"so've\": \"so have\", \"so's\": \"so is\", \"that'd\": \"that would\", \"that'd've\": \"that would have\",\n",
    "    \"that's\": \"that is\", \"there'd\": \"there would\", \"there'd've\": \"there would have\", \"there's\": \"there is\", \"they'd\": \"they would\",\n",
    "    \"they'd've\": \"they would have\", \"they'll\": \"they will\", \"they'll've\": \"they will have\", \"they're\": \"they are\", \"they've\": \"they have\",\n",
    "    \"to've\": \"to have\", \"wasn't\": \"was not\", \"we'd\": \"we would\", \"we'd've\": \"we would have\", \"we'll\": \"we will\", \"we'll've\": \"we will have\",\n",
    "    \"we're\": \"we are\", \"we've\": \"we have\", \"weren't\": \"were not\", \"what'll\": \"what will\", \"what'll've\": \"what will have\", \"what're\": \"what are\",\n",
    "    \"what's\": \"what is\", \"what've\": \"what have\", \"when's\": \"when is\", \"when've\": \"when have\", \"where'd\": \"where did\", \"where's\": \"where is\",\n",
    "    \"where've\": \"where have\", \"who'll\": \"who will\", \"who'll've\": \"who will have\", \"who's\": \"who is\", \"who've\": \"who have\", \"why's\": \"why is\",\n",
    "    \"why've\": \"why have\", \"will've\": \"will have\", \"won't\": \"will not\", \"won't've\": \"will not have\", \"would've\": \"would have\",\n",
    "    \"wouldn't\": \"would not\", \"wouldn't've\": \"would not have\", \"y'all\": \"you all\", \"y’all\": \"you all\", \"y'all'd\": \"you all would\",\n",
    "    \"y'all'd've\": \"you all would have\", \"y'all're\": \"you all are\", \"y'all've\": \"you all have\", \"you'd\": \"you would\", \"you'd've\": \"you would have\",\n",
    "    \"you'll\": \"you will\", \"you'll've\": \"you will have\", \"you're\": \"you are\", \"you've\": \"you have\", \"ain’t\": \"am not\", \"aren’t\": \"are not\",\n",
    "    \"can’t\": \"cannot\", \"can’t’ve\": \"cannot have\", \"’cause\": \"because\", \"could’ve\": \"could have\", \"couldn’t\": \"could not\", \"couldn’t’ve\": \"could not have\",\n",
    "    \"didn’t\": \"did not\", \"doesn’t\": \"does not\", \"don’t\": \"do not\", \"don’t\": \"do not\", \"hadn’t\": \"had not\", \"hadn’t’ve\": \"had not have\",\n",
    "    \"hasn’t\": \"has not\", \"haven’t\": \"have not\", \"he’d\": \"he had\", \"he’d’ve\": \"he would have\", \"he’ll\": \"he will\", \"he’ll’ve\": \"he will have\",\n",
    "    \"he’s\": \"he is\", \"how’d\": \"how did\", \"how’d’y\": \"how do you\", \"how’ll\": \"how will\", \"how’s\": \"how is\", \"i’d\": \"i would\", \"i’d’ve\": \"i would have\",\n",
    "    \"i’ll\": \"i will\", \"i’ll’ve\": \"i will have\", \"i’m\": \"i am\", \"i’ve\": \"i have\", \"isn’t\": \"is not\", \"it’d\": \"it would\", \"it’d’ve\": \"it would have\",\n",
    "    \"it’ll\": \"it will\", \"it’ll’ve\": \"it will have\", \"it’s\": \"it is\", \"let’s\": \"let us\", \"ma’am\": \"madam\", \"mayn’t\": \"may not\",\n",
    "    \"might’ve\": \"might have\", \"mightn’t\": \"might not\", \"mightn’t’ve\": \"might not have\", \"must’ve\": \"must have\", \"mustn’t\": \"must not\",\n",
    "    \"mustn’t’ve\": \"must not have\", \"needn’t\": \"need not\", \"needn’t’ve\": \"need not have\", \"o’clock\": \"of the clock\",\n",
    "    \"oughtn’t\": \"ought not\", \"oughtn’t’ve\": \"ought not have\", \"shan’t\": \"shall not\", \"sha’n’t\": \"shall not\", \"shan’t’ve\": \"shall not have\",\n",
    "    \"she’d\": \"she would\", \"she’d’ve\": \"she would have\", \"she’ll\": \"she will\", \"she’ll’ve\": \"she will have\", \"she’s\": \"she is\",\n",
    "    \"should’ve\": \"should have\", \"shouldn’t\": \"should not\", \"shouldn’t’ve\": \"should not have\", \"so’ve\": \"so have\", \"so’s\": \"so is\",\n",
    "    \"that’d\": \"that would\", \"that’d’ve\": \"that would have\", \"that’s\": \"that is\", \"there’d\": \"there would\", \"there’d’ve\": \"there would have\",\n",
    "    \"there’s\": \"there is\", \"they’d\": \"they would\", \"they’d’ve\": \"they would have\", \"they’ll\": \"they will\", \"they’ll’ve\": \"they will have\",\n",
    "    \"they’re\": \"they are\", \"they’ve\": \"they have\", \"to’ve\": \"to have\", \"wasn’t\": \"was not\", \"we’d\": \"we would\", \"we’d’ve\": \"we would have\",\n",
    "    \"we’ll\": \"we will\", \"we’ll’ve\": \"we will have\", \"we’re\": \"we are\", \"we’ve\": \"we have\", \"weren’t\": \"were not\", \"what’ll\": \"what will\",\n",
    "    \"what’ll’ve\": \"what will have\", \"what’re\": \"what are\", \"what’s\": \"what is\", \"what’ve\": \"what have\", \"when’s\": \"when is\",\n",
    "    \"when’ve\": \"when have\", \"where’d\": \"where did\", \"where’s\": \"where is\", \"where’ve\": \"where have\", \"who’ll\": \"who will\",\n",
    "    \"who’ll’ve\": \"who will have\", \"who’s\": \"who is\", \"who’ve\": \"who have\",\"why’s\": \"why is\", \"why’ve\": \"why have\", \"will’ve\": \"will have\",\n",
    "    \"won’t\": \"will not\", \"won’t’ve\": \"will not have\", \"would’ve\": \"would have\", \"wouldn’t\": \"would not\", \"wouldn’t’ve\": \"would not have\",\n",
    "    \"y’all\": \"you all\", \"y’all\": \"you all\", \"y’all’d\": \"you all would\", \"y’all’d’ve\": \"you all would have\", \"y’all’re\": \"you all are\",\n",
    "    \"y’all’ve\": \"you all have\", \"you’d\": \"you would\", \"you’d’ve\": \"you would have\", \"you’ll\": \"you will\", \"you’ll’ve\": \"you will have\",\n",
    "    \"you’re\": \"you are\", \"you’re\": \"you are\", \"you’ve\": \"you have\"\n",
    "}\n",
    "contractions_re = re.compile('(%s)' % '|'.join(contractions_dict.keys()))\n",
    "\n",
    "# Function expand the contractions if there's any\n",
    "def expand_contractions(s, contractions_dict=contractions_dict):\n",
    "    def replace(match):\n",
    "        return contractions_dict[match.group(0)]\n",
    "    return contractions_re.sub(replace, s)\n",
    "\n",
    "\n",
    "df_data['review_clean'] = df_data['review'].apply(expand_contractions)"
   ]
  },
  {
   "cell_type": "code",
   "execution_count": 37,
   "metadata": {
    "colab": {
     "background_save": true
    },
    "id": "6-mBQ3NIS5m1"
   },
   "outputs": [],
   "source": [
    "count = 0\n",
    "def normalize_punc_lemmatize(text):\n",
    "    global count\n",
    "    count = count+1\n",
    "    #normalizing the text by lowering to same case\n",
    "    text = text.lower()\n",
    "    #Removing the punctuations\n",
    "    text_p = \"\".join([char for char in text if char not in string.punctuation])\n",
    "    #Lemmatizing the text\n",
    "    doc = nlp(text_p)\n",
    "    sen = \" \".join([token.lemma_ if token.lemma_ != '-PRON-' else str(token) for token in doc])\n",
    "    #print(count)\n",
    "    return sen\n",
    "\n",
    "\n",
    "df_data['review_clean'] = df_data['review_clean'].apply(normalize_punc_lemmatize)"
   ]
  },
  {
   "cell_type": "code",
   "execution_count": 38,
   "metadata": {
    "colab": {
     "background_save": true
    },
    "id": "yxNIZmaEhLbR",
    "outputId": "f15d316b-e6c6-4cd8-ca83-1a2d2736cb8d"
   },
   "outputs": [
    {
     "data": {
      "text/html": [
       "<div>\n",
       "<style scoped>\n",
       "    .dataframe tbody tr th:only-of-type {\n",
       "        vertical-align: middle;\n",
       "    }\n",
       "\n",
       "    .dataframe tbody tr th {\n",
       "        vertical-align: top;\n",
       "    }\n",
       "\n",
       "    .dataframe thead th {\n",
       "        text-align: right;\n",
       "    }\n",
       "</style>\n",
       "<table border=\"1\" class=\"dataframe\">\n",
       "  <thead>\n",
       "    <tr style=\"text-align: right;\">\n",
       "      <th></th>\n",
       "      <th>uniqueid</th>\n",
       "      <th>drugname</th>\n",
       "      <th>condition</th>\n",
       "      <th>review</th>\n",
       "      <th>rating</th>\n",
       "      <th>date</th>\n",
       "      <th>usefulcount</th>\n",
       "      <th>year</th>\n",
       "      <th>month</th>\n",
       "      <th>day</th>\n",
       "      <th>review_clean</th>\n",
       "    </tr>\n",
       "  </thead>\n",
       "  <tbody>\n",
       "    <tr>\n",
       "      <th>0</th>\n",
       "      <td>206461</td>\n",
       "      <td>Valsartan</td>\n",
       "      <td>Left Ventricular Dysfunction</td>\n",
       "      <td>\"It has no side effect, I take it in combinati...</td>\n",
       "      <td>9</td>\n",
       "      <td>2012-05-20</td>\n",
       "      <td>27</td>\n",
       "      <td>2012</td>\n",
       "      <td>5</td>\n",
       "      <td>20</td>\n",
       "      <td>it have no side effect I take it in combinatio...</td>\n",
       "    </tr>\n",
       "    <tr>\n",
       "      <th>1</th>\n",
       "      <td>95260</td>\n",
       "      <td>Guanfacine</td>\n",
       "      <td>ADHD</td>\n",
       "      <td>\"My son is halfway through his fourth week of ...</td>\n",
       "      <td>8</td>\n",
       "      <td>2010-04-27</td>\n",
       "      <td>192</td>\n",
       "      <td>2010</td>\n",
       "      <td>4</td>\n",
       "      <td>27</td>\n",
       "      <td>my son be halfway through his fourth week of i...</td>\n",
       "    </tr>\n",
       "    <tr>\n",
       "      <th>2</th>\n",
       "      <td>92703</td>\n",
       "      <td>Lybrel</td>\n",
       "      <td>Birth Control</td>\n",
       "      <td>\"I used to take another oral contraceptive, wh...</td>\n",
       "      <td>5</td>\n",
       "      <td>2009-12-14</td>\n",
       "      <td>17</td>\n",
       "      <td>2009</td>\n",
       "      <td>12</td>\n",
       "      <td>14</td>\n",
       "      <td>I use to take another oral contraceptive which...</td>\n",
       "    </tr>\n",
       "    <tr>\n",
       "      <th>3</th>\n",
       "      <td>138000</td>\n",
       "      <td>Ortho Evra</td>\n",
       "      <td>Birth Control</td>\n",
       "      <td>\"This is my first time using any form of birth...</td>\n",
       "      <td>8</td>\n",
       "      <td>2015-11-03</td>\n",
       "      <td>10</td>\n",
       "      <td>2015</td>\n",
       "      <td>11</td>\n",
       "      <td>3</td>\n",
       "      <td>this be my first time use any form of birth co...</td>\n",
       "    </tr>\n",
       "    <tr>\n",
       "      <th>4</th>\n",
       "      <td>35696</td>\n",
       "      <td>Buprenorphine / naloxone</td>\n",
       "      <td>Opiate Dependence</td>\n",
       "      <td>\"Suboxone has completely turned my life around...</td>\n",
       "      <td>9</td>\n",
       "      <td>2016-11-27</td>\n",
       "      <td>37</td>\n",
       "      <td>2016</td>\n",
       "      <td>11</td>\n",
       "      <td>27</td>\n",
       "      <td>suboxone have completely turn my life around  ...</td>\n",
       "    </tr>\n",
       "    <tr>\n",
       "      <th>...</th>\n",
       "      <td>...</td>\n",
       "      <td>...</td>\n",
       "      <td>...</td>\n",
       "      <td>...</td>\n",
       "      <td>...</td>\n",
       "      <td>...</td>\n",
       "      <td>...</td>\n",
       "      <td>...</td>\n",
       "      <td>...</td>\n",
       "      <td>...</td>\n",
       "      <td>...</td>\n",
       "    </tr>\n",
       "    <tr>\n",
       "      <th>213864</th>\n",
       "      <td>159999</td>\n",
       "      <td>Tamoxifen</td>\n",
       "      <td>Breast Cancer, Prevention</td>\n",
       "      <td>\"I have taken Tamoxifen for 5 years. Side effe...</td>\n",
       "      <td>10</td>\n",
       "      <td>2014-09-13</td>\n",
       "      <td>43</td>\n",
       "      <td>2014</td>\n",
       "      <td>9</td>\n",
       "      <td>13</td>\n",
       "      <td>I have take tamoxifen for 5 year side effect b...</td>\n",
       "    </tr>\n",
       "    <tr>\n",
       "      <th>213865</th>\n",
       "      <td>140714</td>\n",
       "      <td>Escitalopram</td>\n",
       "      <td>Anxiety</td>\n",
       "      <td>\"I've been taking Lexapro (escitaploprgram) si...</td>\n",
       "      <td>9</td>\n",
       "      <td>2016-10-08</td>\n",
       "      <td>11</td>\n",
       "      <td>2016</td>\n",
       "      <td>10</td>\n",
       "      <td>8</td>\n",
       "      <td>I ve be take lexapro escitaploprgram since feb...</td>\n",
       "    </tr>\n",
       "    <tr>\n",
       "      <th>213866</th>\n",
       "      <td>130945</td>\n",
       "      <td>Levonorgestrel</td>\n",
       "      <td>Birth Control</td>\n",
       "      <td>\"I'm married, 34 years old and I have no kids....</td>\n",
       "      <td>8</td>\n",
       "      <td>2010-11-15</td>\n",
       "      <td>7</td>\n",
       "      <td>2010</td>\n",
       "      <td>11</td>\n",
       "      <td>15</td>\n",
       "      <td>I m married 34 year old and I have no kid take...</td>\n",
       "    </tr>\n",
       "    <tr>\n",
       "      <th>213867</th>\n",
       "      <td>47656</td>\n",
       "      <td>Tapentadol</td>\n",
       "      <td>Pain</td>\n",
       "      <td>\"I was prescribed Nucynta for severe neck/shou...</td>\n",
       "      <td>1</td>\n",
       "      <td>2011-11-28</td>\n",
       "      <td>20</td>\n",
       "      <td>2011</td>\n",
       "      <td>11</td>\n",
       "      <td>28</td>\n",
       "      <td>I be prescribe nucynta for severe neckshoulder...</td>\n",
       "    </tr>\n",
       "    <tr>\n",
       "      <th>213868</th>\n",
       "      <td>113712</td>\n",
       "      <td>Arthrotec</td>\n",
       "      <td>Sciatica</td>\n",
       "      <td>\"It works!!!\"</td>\n",
       "      <td>9</td>\n",
       "      <td>2009-09-13</td>\n",
       "      <td>46</td>\n",
       "      <td>2009</td>\n",
       "      <td>9</td>\n",
       "      <td>13</td>\n",
       "      <td>it work</td>\n",
       "    </tr>\n",
       "  </tbody>\n",
       "</table>\n",
       "<p>213869 rows × 11 columns</p>\n",
       "</div>"
      ],
      "text/plain": [
       "        uniqueid                  drugname                     condition  \\\n",
       "0         206461                 Valsartan  Left Ventricular Dysfunction   \n",
       "1          95260                Guanfacine                          ADHD   \n",
       "2          92703                    Lybrel                 Birth Control   \n",
       "3         138000                Ortho Evra                 Birth Control   \n",
       "4          35696  Buprenorphine / naloxone             Opiate Dependence   \n",
       "...          ...                       ...                           ...   \n",
       "213864    159999                 Tamoxifen     Breast Cancer, Prevention   \n",
       "213865    140714              Escitalopram                       Anxiety   \n",
       "213866    130945            Levonorgestrel                 Birth Control   \n",
       "213867     47656                Tapentadol                          Pain   \n",
       "213868    113712                 Arthrotec                      Sciatica   \n",
       "\n",
       "                                                   review  rating       date  \\\n",
       "0       \"It has no side effect, I take it in combinati...       9 2012-05-20   \n",
       "1       \"My son is halfway through his fourth week of ...       8 2010-04-27   \n",
       "2       \"I used to take another oral contraceptive, wh...       5 2009-12-14   \n",
       "3       \"This is my first time using any form of birth...       8 2015-11-03   \n",
       "4       \"Suboxone has completely turned my life around...       9 2016-11-27   \n",
       "...                                                   ...     ...        ...   \n",
       "213864  \"I have taken Tamoxifen for 5 years. Side effe...      10 2014-09-13   \n",
       "213865  \"I've been taking Lexapro (escitaploprgram) si...       9 2016-10-08   \n",
       "213866  \"I'm married, 34 years old and I have no kids....       8 2010-11-15   \n",
       "213867  \"I was prescribed Nucynta for severe neck/shou...       1 2011-11-28   \n",
       "213868                                      \"It works!!!\"       9 2009-09-13   \n",
       "\n",
       "        usefulcount  year  month  day  \\\n",
       "0                27  2012      5   20   \n",
       "1               192  2010      4   27   \n",
       "2                17  2009     12   14   \n",
       "3                10  2015     11    3   \n",
       "4                37  2016     11   27   \n",
       "...             ...   ...    ...  ...   \n",
       "213864           43  2014      9   13   \n",
       "213865           11  2016     10    8   \n",
       "213866            7  2010     11   15   \n",
       "213867           20  2011     11   28   \n",
       "213868           46  2009      9   13   \n",
       "\n",
       "                                             review_clean  \n",
       "0       it have no side effect I take it in combinatio...  \n",
       "1       my son be halfway through his fourth week of i...  \n",
       "2       I use to take another oral contraceptive which...  \n",
       "3       this be my first time use any form of birth co...  \n",
       "4       suboxone have completely turn my life around  ...  \n",
       "...                                                   ...  \n",
       "213864  I have take tamoxifen for 5 year side effect b...  \n",
       "213865  I ve be take lexapro escitaploprgram since feb...  \n",
       "213866  I m married 34 year old and I have no kid take...  \n",
       "213867  I be prescribe nucynta for severe neckshoulder...  \n",
       "213868                                            it work  \n",
       "\n",
       "[213869 rows x 11 columns]"
      ]
     },
     "execution_count": 38,
     "metadata": {},
     "output_type": "execute_result"
    }
   ],
   "source": [
    "df_data"
   ]
  },
  {
   "cell_type": "code",
   "execution_count": 39,
   "metadata": {
    "colab": {
     "background_save": true
    },
    "id": "3F_EIthUS5m5"
   },
   "outputs": [],
   "source": [
    "def preprocess(text):    \n",
    "    \n",
    "    #text_p = \"\".join([char for char in text if char not in string.punctuation])\n",
    "    \n",
    "    words = word_tokenize(text)    \n",
    "    \n",
    "    filtered_words = [word for word in words if word not in stop_words]\n",
    "    \n",
    "    #porter = PorterStemmer()\n",
    "    #stemmed = [porter.stem(word) for word in filtered_words]\n",
    "    \n",
    "    #pos = pos_tag(filtered_words)\n",
    "    final_string = \" \".join(filtered_words)\n",
    "    \n",
    "    return final_string\n",
    "\n",
    "df_data['review_clean'] = df_data['review_clean'].apply(preprocess)"
   ]
  },
  {
   "cell_type": "code",
   "execution_count": null,
   "metadata": {
    "id": "FfiSDppNS5m6"
   },
   "outputs": [],
   "source": []
  },
  {
   "cell_type": "markdown",
   "metadata": {
    "id": "cbWPhl12S5m6"
   },
   "source": [
    "### Feature Engineering"
   ]
  },
  {
   "cell_type": "code",
   "execution_count": 40,
   "metadata": {
    "colab": {
     "background_save": true
    },
    "id": "HtQfTzMmS5m7"
   },
   "outputs": [],
   "source": [
    "# Sentiment polarity of the reviews\n",
    "def sentiment(review):\n",
    "    pol = []\n",
    "    for i in review:\n",
    "        analysis = TextBlob(i)\n",
    "        pol.append(analysis.sentiment.polarity)\n",
    "    return pol\n",
    "\n",
    "df_data['sentiment'] = sentiment(df_data['review'])\n",
    "df_data['sentiment_processed'] = sentiment(df_data['review_clean'])"
   ]
  },
  {
   "cell_type": "code",
   "execution_count": 41,
   "metadata": {
    "colab": {
     "background_save": true
    },
    "id": "0tFY418qS5m-",
    "outputId": "6ae372c4-ad6c-49b9-e8c2-a22c7d081391"
   },
   "outputs": [
    {
     "data": {
      "text/plain": [
       "array([[1.       , 0.3483115],\n",
       "       [0.3483115, 1.       ]])"
      ]
     },
     "execution_count": 41,
     "metadata": {},
     "output_type": "execute_result"
    }
   ],
   "source": [
    "np.corrcoef(df_data['sentiment'], df_data['rating'])"
   ]
  },
  {
   "cell_type": "code",
   "execution_count": 42,
   "metadata": {
    "colab": {
     "background_save": true
    },
    "id": "bpEWCJKxS5m_",
    "outputId": "44f557b3-907e-489d-ef38-edc2922c2111"
   },
   "outputs": [
    {
     "data": {
      "text/plain": [
       "array([[1.        , 0.36668656],\n",
       "       [0.36668656, 1.        ]])"
      ]
     },
     "execution_count": 42,
     "metadata": {},
     "output_type": "execute_result"
    }
   ],
   "source": [
    "np.corrcoef(df_data['sentiment_processed'], df_data['rating'])"
   ]
  },
  {
   "cell_type": "markdown",
   "metadata": {
    "id": "oEWOnMHuS5nA"
   },
   "source": [
    "*As we can see there is no much difference in correlation coef between rating - review and rating - cleaned review / seems like we have not lost more of the important data*"
   ]
  },
  {
   "cell_type": "code",
   "execution_count": 43,
   "metadata": {
    "colab": {
     "background_save": true
    },
    "id": "H9etSCMvS5nA",
    "outputId": "1fd2c210-bee6-46cf-b463-9b6936a48a96"
   },
   "outputs": [
    {
     "data": {
      "text/html": [
       "<div>\n",
       "<style scoped>\n",
       "    .dataframe tbody tr th:only-of-type {\n",
       "        vertical-align: middle;\n",
       "    }\n",
       "\n",
       "    .dataframe tbody tr th {\n",
       "        vertical-align: top;\n",
       "    }\n",
       "\n",
       "    .dataframe thead th {\n",
       "        text-align: right;\n",
       "    }\n",
       "</style>\n",
       "<table border=\"1\" class=\"dataframe\">\n",
       "  <thead>\n",
       "    <tr style=\"text-align: right;\">\n",
       "      <th></th>\n",
       "      <th>uniqueid</th>\n",
       "      <th>drugname</th>\n",
       "      <th>condition</th>\n",
       "      <th>review</th>\n",
       "      <th>rating</th>\n",
       "      <th>date</th>\n",
       "      <th>usefulcount</th>\n",
       "      <th>year</th>\n",
       "      <th>month</th>\n",
       "      <th>day</th>\n",
       "      <th>review_clean</th>\n",
       "      <th>sentiment</th>\n",
       "      <th>sentiment_processed</th>\n",
       "    </tr>\n",
       "  </thead>\n",
       "  <tbody>\n",
       "    <tr>\n",
       "      <th>0</th>\n",
       "      <td>206461</td>\n",
       "      <td>Valsartan</td>\n",
       "      <td>Left Ventricular Dysfunction</td>\n",
       "      <td>\"It has no side effect, I take it in combinati...</td>\n",
       "      <td>9</td>\n",
       "      <td>2012-05-20</td>\n",
       "      <td>27</td>\n",
       "      <td>2012</td>\n",
       "      <td>5</td>\n",
       "      <td>20</td>\n",
       "      <td>no side effect I take combination bystolic 5 m...</td>\n",
       "      <td>0.000000</td>\n",
       "      <td>0.000000</td>\n",
       "    </tr>\n",
       "    <tr>\n",
       "      <th>1</th>\n",
       "      <td>95260</td>\n",
       "      <td>Guanfacine</td>\n",
       "      <td>ADHD</td>\n",
       "      <td>\"My son is halfway through his fourth week of ...</td>\n",
       "      <td>8</td>\n",
       "      <td>2010-04-27</td>\n",
       "      <td>192</td>\n",
       "      <td>2010</td>\n",
       "      <td>4</td>\n",
       "      <td>27</td>\n",
       "      <td>son halfway fourth week intuniv become concern...</td>\n",
       "      <td>0.168333</td>\n",
       "      <td>0.129722</td>\n",
       "    </tr>\n",
       "    <tr>\n",
       "      <th>2</th>\n",
       "      <td>92703</td>\n",
       "      <td>Lybrel</td>\n",
       "      <td>Birth Control</td>\n",
       "      <td>\"I used to take another oral contraceptive, wh...</td>\n",
       "      <td>5</td>\n",
       "      <td>2009-12-14</td>\n",
       "      <td>17</td>\n",
       "      <td>2009</td>\n",
       "      <td>12</td>\n",
       "      <td>14</td>\n",
       "      <td>I use take another oral contraceptive 21 pill ...</td>\n",
       "      <td>0.067210</td>\n",
       "      <td>0.048580</td>\n",
       "    </tr>\n",
       "    <tr>\n",
       "      <th>3</th>\n",
       "      <td>138000</td>\n",
       "      <td>Ortho Evra</td>\n",
       "      <td>Birth Control</td>\n",
       "      <td>\"This is my first time using any form of birth...</td>\n",
       "      <td>8</td>\n",
       "      <td>2015-11-03</td>\n",
       "      <td>10</td>\n",
       "      <td>2015</td>\n",
       "      <td>11</td>\n",
       "      <td>3</td>\n",
       "      <td>first time use form birth control I glad I go ...</td>\n",
       "      <td>0.179545</td>\n",
       "      <td>0.306250</td>\n",
       "    </tr>\n",
       "    <tr>\n",
       "      <th>4</th>\n",
       "      <td>35696</td>\n",
       "      <td>Buprenorphine / naloxone</td>\n",
       "      <td>Opiate Dependence</td>\n",
       "      <td>\"Suboxone has completely turned my life around...</td>\n",
       "      <td>9</td>\n",
       "      <td>2016-11-27</td>\n",
       "      <td>37</td>\n",
       "      <td>2016</td>\n",
       "      <td>11</td>\n",
       "      <td>27</td>\n",
       "      <td>suboxone completely turn life around I feel he...</td>\n",
       "      <td>0.194444</td>\n",
       "      <td>0.242333</td>\n",
       "    </tr>\n",
       "  </tbody>\n",
       "</table>\n",
       "</div>"
      ],
      "text/plain": [
       "   uniqueid                  drugname                     condition  \\\n",
       "0    206461                 Valsartan  Left Ventricular Dysfunction   \n",
       "1     95260                Guanfacine                          ADHD   \n",
       "2     92703                    Lybrel                 Birth Control   \n",
       "3    138000                Ortho Evra                 Birth Control   \n",
       "4     35696  Buprenorphine / naloxone             Opiate Dependence   \n",
       "\n",
       "                                              review  rating       date  \\\n",
       "0  \"It has no side effect, I take it in combinati...       9 2012-05-20   \n",
       "1  \"My son is halfway through his fourth week of ...       8 2010-04-27   \n",
       "2  \"I used to take another oral contraceptive, wh...       5 2009-12-14   \n",
       "3  \"This is my first time using any form of birth...       8 2015-11-03   \n",
       "4  \"Suboxone has completely turned my life around...       9 2016-11-27   \n",
       "\n",
       "   usefulcount  year  month  day  \\\n",
       "0           27  2012      5   20   \n",
       "1          192  2010      4   27   \n",
       "2           17  2009     12   14   \n",
       "3           10  2015     11    3   \n",
       "4           37  2016     11   27   \n",
       "\n",
       "                                        review_clean  sentiment  \\\n",
       "0  no side effect I take combination bystolic 5 m...   0.000000   \n",
       "1  son halfway fourth week intuniv become concern...   0.168333   \n",
       "2  I use take another oral contraceptive 21 pill ...   0.067210   \n",
       "3  first time use form birth control I glad I go ...   0.179545   \n",
       "4  suboxone completely turn life around I feel he...   0.194444   \n",
       "\n",
       "   sentiment_processed  \n",
       "0             0.000000  \n",
       "1             0.129722  \n",
       "2             0.048580  \n",
       "3             0.306250  \n",
       "4             0.242333  "
      ]
     },
     "execution_count": 43,
     "metadata": {},
     "output_type": "execute_result"
    }
   ],
   "source": [
    "df_data.head()"
   ]
  },
  {
   "cell_type": "code",
   "execution_count": 44,
   "metadata": {
    "colab": {
     "background_save": true
    },
    "id": "5HkEkaAQS5nB",
    "outputId": "1d2c84ec-ed32-4840-a7b4-367a65519de8"
   },
   "outputs": [
    {
     "data": {
      "text/plain": [
       "'\"It has no side effect, I take it in combination of Bystolic 5 Mg and Fish Oil\"'"
      ]
     },
     "execution_count": 44,
     "metadata": {},
     "output_type": "execute_result"
    }
   ],
   "source": [
    "df_data['review'].iloc[0]"
   ]
  },
  {
   "cell_type": "code",
   "execution_count": 45,
   "metadata": {
    "colab": {
     "background_save": true
    },
    "id": "rDiTtR1QS5nC",
    "outputId": "3134a3d2-2dce-4d2f-b130-e8685947e895"
   },
   "outputs": [
    {
     "data": {
      "text/plain": [
       "'no side effect I take combination bystolic 5 mg fish oil'"
      ]
     },
     "execution_count": 45,
     "metadata": {},
     "output_type": "execute_result"
    }
   ],
   "source": [
    "df_data['review_clean'].iloc[0]"
   ]
  },
  {
   "cell_type": "code",
   "execution_count": 46,
   "metadata": {
    "colab": {
     "background_save": true
    },
    "id": "LbaatLYIS5nD"
   },
   "outputs": [],
   "source": [
    "#Word count in each review\n",
    "df_data['word_count']=df_data[\"review_clean\"].apply(lambda x: len(str(x).split()))\n",
    "\n",
    "#Unique word count \n",
    "df_data['unique_word_count']=df_data[\"review_clean\"].apply(lambda x: len(set(str(x).split())))\n",
    "\n",
    "#punctuation count\n",
    "df_data[\"count_punc\"] = df_data[\"review\"].apply(lambda x: len([c for c in str(x) if c in string.punctuation]))\n",
    "\n",
    "#upper case words count\n",
    "df_data[\"upper_word_count\"] = df_data[\"review\"].apply(lambda x: len([w for w in str(x).split() if w.isupper()]))\n",
    "\n",
    "#title case words count\n",
    "df_data[\"title_word_count\"] = df_data[\"review\"].apply(lambda x: len([w for w in str(x).split() if w.istitle()]))\n",
    "\n",
    "#Number of stopwords\n",
    "df_data[\"stopword_count\"] = df_data[\"review\"].apply(lambda x: len([w for w in str(x).lower().split() if w in stop_words]))\n",
    "\n",
    "#mean length of the words\n",
    "df_data[\"mean_word_len\"] = df_data[\"review_clean\"].apply(lambda x: np.mean([len(w) for w in str(x).split()]))"
   ]
  },
  {
   "cell_type": "code",
   "execution_count": 47,
   "metadata": {
    "colab": {
     "background_save": true
    },
    "id": "43-oe6UOS5nI"
   },
   "outputs": [],
   "source": [
    "df_data['mean_word_len'] = df_data['mean_word_len'].fillna(0)"
   ]
  },
  {
   "cell_type": "code",
   "execution_count": 48,
   "metadata": {
    "colab": {
     "background_save": true
    },
    "id": "gvQBY_4xS5nI",
    "outputId": "75ea1663-8fdb-4954-9e41-24c9e07c4162"
   },
   "outputs": [
    {
     "data": {
      "text/html": [
       "<div>\n",
       "<style scoped>\n",
       "    .dataframe tbody tr th:only-of-type {\n",
       "        vertical-align: middle;\n",
       "    }\n",
       "\n",
       "    .dataframe tbody tr th {\n",
       "        vertical-align: top;\n",
       "    }\n",
       "\n",
       "    .dataframe thead th {\n",
       "        text-align: right;\n",
       "    }\n",
       "</style>\n",
       "<table border=\"1\" class=\"dataframe\">\n",
       "  <thead>\n",
       "    <tr style=\"text-align: right;\">\n",
       "      <th></th>\n",
       "      <th>uniqueid</th>\n",
       "      <th>drugname</th>\n",
       "      <th>condition</th>\n",
       "      <th>review</th>\n",
       "      <th>rating</th>\n",
       "      <th>date</th>\n",
       "      <th>usefulcount</th>\n",
       "      <th>year</th>\n",
       "      <th>month</th>\n",
       "      <th>day</th>\n",
       "      <th>review_clean</th>\n",
       "      <th>sentiment</th>\n",
       "      <th>sentiment_processed</th>\n",
       "      <th>word_count</th>\n",
       "      <th>unique_word_count</th>\n",
       "      <th>count_punc</th>\n",
       "      <th>upper_word_count</th>\n",
       "      <th>title_word_count</th>\n",
       "      <th>stopword_count</th>\n",
       "      <th>mean_word_len</th>\n",
       "    </tr>\n",
       "  </thead>\n",
       "  <tbody>\n",
       "    <tr>\n",
       "      <th>0</th>\n",
       "      <td>206461</td>\n",
       "      <td>Valsartan</td>\n",
       "      <td>Left Ventricular Dysfunction</td>\n",
       "      <td>\"It has no side effect, I take it in combinati...</td>\n",
       "      <td>9</td>\n",
       "      <td>2012-05-20</td>\n",
       "      <td>27</td>\n",
       "      <td>2012</td>\n",
       "      <td>5</td>\n",
       "      <td>20</td>\n",
       "      <td>no side effect I take combination bystolic 5 m...</td>\n",
       "      <td>0.000000</td>\n",
       "      <td>0.000000</td>\n",
       "      <td>11</td>\n",
       "      <td>11</td>\n",
       "      <td>3</td>\n",
       "      <td>1</td>\n",
       "      <td>6</td>\n",
       "      <td>6</td>\n",
       "      <td>4.181818</td>\n",
       "    </tr>\n",
       "    <tr>\n",
       "      <th>1</th>\n",
       "      <td>95260</td>\n",
       "      <td>Guanfacine</td>\n",
       "      <td>ADHD</td>\n",
       "      <td>\"My son is halfway through his fourth week of ...</td>\n",
       "      <td>8</td>\n",
       "      <td>2010-04-27</td>\n",
       "      <td>192</td>\n",
       "      <td>2010</td>\n",
       "      <td>4</td>\n",
       "      <td>27</td>\n",
       "      <td>son halfway fourth week intuniv become concern...</td>\n",
       "      <td>0.168333</td>\n",
       "      <td>0.129722</td>\n",
       "      <td>68</td>\n",
       "      <td>57</td>\n",
       "      <td>23</td>\n",
       "      <td>2</td>\n",
       "      <td>13</td>\n",
       "      <td>68</td>\n",
       "      <td>5.073529</td>\n",
       "    </tr>\n",
       "    <tr>\n",
       "      <th>2</th>\n",
       "      <td>92703</td>\n",
       "      <td>Lybrel</td>\n",
       "      <td>Birth Control</td>\n",
       "      <td>\"I used to take another oral contraceptive, wh...</td>\n",
       "      <td>5</td>\n",
       "      <td>2009-12-14</td>\n",
       "      <td>17</td>\n",
       "      <td>2009</td>\n",
       "      <td>12</td>\n",
       "      <td>14</td>\n",
       "      <td>I use take another oral contraceptive 21 pill ...</td>\n",
       "      <td>0.067210</td>\n",
       "      <td>0.048580</td>\n",
       "      <td>80</td>\n",
       "      <td>54</td>\n",
       "      <td>30</td>\n",
       "      <td>6</td>\n",
       "      <td>15</td>\n",
       "      <td>57</td>\n",
       "      <td>4.800000</td>\n",
       "    </tr>\n",
       "    <tr>\n",
       "      <th>3</th>\n",
       "      <td>138000</td>\n",
       "      <td>Ortho Evra</td>\n",
       "      <td>Birth Control</td>\n",
       "      <td>\"This is my first time using any form of birth...</td>\n",
       "      <td>8</td>\n",
       "      <td>2015-11-03</td>\n",
       "      <td>10</td>\n",
       "      <td>2015</td>\n",
       "      <td>11</td>\n",
       "      <td>3</td>\n",
       "      <td>first time use form birth control I glad I go ...</td>\n",
       "      <td>0.179545</td>\n",
       "      <td>0.306250</td>\n",
       "      <td>49</td>\n",
       "      <td>32</td>\n",
       "      <td>13</td>\n",
       "      <td>4</td>\n",
       "      <td>9</td>\n",
       "      <td>43</td>\n",
       "      <td>4.163265</td>\n",
       "    </tr>\n",
       "    <tr>\n",
       "      <th>4</th>\n",
       "      <td>35696</td>\n",
       "      <td>Buprenorphine / naloxone</td>\n",
       "      <td>Opiate Dependence</td>\n",
       "      <td>\"Suboxone has completely turned my life around...</td>\n",
       "      <td>9</td>\n",
       "      <td>2016-11-27</td>\n",
       "      <td>37</td>\n",
       "      <td>2016</td>\n",
       "      <td>11</td>\n",
       "      <td>27</td>\n",
       "      <td>suboxone completely turn life around I feel he...</td>\n",
       "      <td>0.194444</td>\n",
       "      <td>0.242333</td>\n",
       "      <td>68</td>\n",
       "      <td>52</td>\n",
       "      <td>20</td>\n",
       "      <td>7</td>\n",
       "      <td>15</td>\n",
       "      <td>61</td>\n",
       "      <td>5.205882</td>\n",
       "    </tr>\n",
       "  </tbody>\n",
       "</table>\n",
       "</div>"
      ],
      "text/plain": [
       "   uniqueid                  drugname                     condition  \\\n",
       "0    206461                 Valsartan  Left Ventricular Dysfunction   \n",
       "1     95260                Guanfacine                          ADHD   \n",
       "2     92703                    Lybrel                 Birth Control   \n",
       "3    138000                Ortho Evra                 Birth Control   \n",
       "4     35696  Buprenorphine / naloxone             Opiate Dependence   \n",
       "\n",
       "                                              review  rating       date  \\\n",
       "0  \"It has no side effect, I take it in combinati...       9 2012-05-20   \n",
       "1  \"My son is halfway through his fourth week of ...       8 2010-04-27   \n",
       "2  \"I used to take another oral contraceptive, wh...       5 2009-12-14   \n",
       "3  \"This is my first time using any form of birth...       8 2015-11-03   \n",
       "4  \"Suboxone has completely turned my life around...       9 2016-11-27   \n",
       "\n",
       "   usefulcount  year  month  day  \\\n",
       "0           27  2012      5   20   \n",
       "1          192  2010      4   27   \n",
       "2           17  2009     12   14   \n",
       "3           10  2015     11    3   \n",
       "4           37  2016     11   27   \n",
       "\n",
       "                                        review_clean  sentiment  \\\n",
       "0  no side effect I take combination bystolic 5 m...   0.000000   \n",
       "1  son halfway fourth week intuniv become concern...   0.168333   \n",
       "2  I use take another oral contraceptive 21 pill ...   0.067210   \n",
       "3  first time use form birth control I glad I go ...   0.179545   \n",
       "4  suboxone completely turn life around I feel he...   0.194444   \n",
       "\n",
       "   sentiment_processed  word_count  unique_word_count  count_punc  \\\n",
       "0             0.000000          11                 11           3   \n",
       "1             0.129722          68                 57          23   \n",
       "2             0.048580          80                 54          30   \n",
       "3             0.306250          49                 32          13   \n",
       "4             0.242333          68                 52          20   \n",
       "\n",
       "   upper_word_count  title_word_count  stopword_count  mean_word_len  \n",
       "0                 1                 6               6       4.181818  \n",
       "1                 2                13              68       5.073529  \n",
       "2                 6                15              57       4.800000  \n",
       "3                 4                 9              43       4.163265  \n",
       "4                 7                15              61       5.205882  "
      ]
     },
     "execution_count": 48,
     "metadata": {},
     "output_type": "execute_result"
    }
   ],
   "source": [
    "df_data.head()"
   ]
  },
  {
   "cell_type": "code",
   "execution_count": 49,
   "metadata": {
    "colab": {
     "background_save": true
    },
    "id": "pLYogqs-S5nJ"
   },
   "outputs": [],
   "source": [
    "#label encoding for drugname and condition columns\n",
    "label_encoder_drug= LabelEncoder()\n",
    "label_encoder_condition = LabelEncoder()\n",
    "df_data['drugname'] = label_encoder_drug.fit_transform(df_data['drugname'])\n",
    "df_data['condition'] = label_encoder_condition.fit_transform(df_data['condition'])"
   ]
  },
  {
   "cell_type": "code",
   "execution_count": 50,
   "metadata": {
    "colab": {
     "background_save": true
    },
    "id": "seeNsLNIS5nK",
    "outputId": "685dff39-b5de-4cd7-b691-a26f16a8cd7d"
   },
   "outputs": [
    {
     "data": {
      "text/html": [
       "<div>\n",
       "<style scoped>\n",
       "    .dataframe tbody tr th:only-of-type {\n",
       "        vertical-align: middle;\n",
       "    }\n",
       "\n",
       "    .dataframe tbody tr th {\n",
       "        vertical-align: top;\n",
       "    }\n",
       "\n",
       "    .dataframe thead th {\n",
       "        text-align: right;\n",
       "    }\n",
       "</style>\n",
       "<table border=\"1\" class=\"dataframe\">\n",
       "  <thead>\n",
       "    <tr style=\"text-align: right;\">\n",
       "      <th></th>\n",
       "      <th>uniqueid</th>\n",
       "      <th>drugname</th>\n",
       "      <th>condition</th>\n",
       "      <th>review</th>\n",
       "      <th>rating</th>\n",
       "      <th>date</th>\n",
       "      <th>usefulcount</th>\n",
       "      <th>year</th>\n",
       "      <th>month</th>\n",
       "      <th>day</th>\n",
       "      <th>review_clean</th>\n",
       "      <th>sentiment</th>\n",
       "      <th>sentiment_processed</th>\n",
       "      <th>word_count</th>\n",
       "      <th>unique_word_count</th>\n",
       "      <th>count_punc</th>\n",
       "      <th>upper_word_count</th>\n",
       "      <th>title_word_count</th>\n",
       "      <th>stopword_count</th>\n",
       "      <th>mean_word_len</th>\n",
       "    </tr>\n",
       "  </thead>\n",
       "  <tbody>\n",
       "    <tr>\n",
       "      <th>0</th>\n",
       "      <td>206461</td>\n",
       "      <td>3421</td>\n",
       "      <td>480</td>\n",
       "      <td>\"It has no side effect, I take it in combinati...</td>\n",
       "      <td>9</td>\n",
       "      <td>2012-05-20</td>\n",
       "      <td>27</td>\n",
       "      <td>2012</td>\n",
       "      <td>5</td>\n",
       "      <td>20</td>\n",
       "      <td>no side effect I take combination bystolic 5 m...</td>\n",
       "      <td>0.000000</td>\n",
       "      <td>0.000000</td>\n",
       "      <td>11</td>\n",
       "      <td>11</td>\n",
       "      <td>3</td>\n",
       "      <td>1</td>\n",
       "      <td>6</td>\n",
       "      <td>6</td>\n",
       "      <td>4.181818</td>\n",
       "    </tr>\n",
       "    <tr>\n",
       "      <th>1</th>\n",
       "      <td>95260</td>\n",
       "      <td>1536</td>\n",
       "      <td>80</td>\n",
       "      <td>\"My son is halfway through his fourth week of ...</td>\n",
       "      <td>8</td>\n",
       "      <td>2010-04-27</td>\n",
       "      <td>192</td>\n",
       "      <td>2010</td>\n",
       "      <td>4</td>\n",
       "      <td>27</td>\n",
       "      <td>son halfway fourth week intuniv become concern...</td>\n",
       "      <td>0.168333</td>\n",
       "      <td>0.129722</td>\n",
       "      <td>68</td>\n",
       "      <td>57</td>\n",
       "      <td>23</td>\n",
       "      <td>2</td>\n",
       "      <td>13</td>\n",
       "      <td>68</td>\n",
       "      <td>5.073529</td>\n",
       "    </tr>\n",
       "    <tr>\n",
       "      <th>2</th>\n",
       "      <td>92703</td>\n",
       "      <td>1983</td>\n",
       "      <td>175</td>\n",
       "      <td>\"I used to take another oral contraceptive, wh...</td>\n",
       "      <td>5</td>\n",
       "      <td>2009-12-14</td>\n",
       "      <td>17</td>\n",
       "      <td>2009</td>\n",
       "      <td>12</td>\n",
       "      <td>14</td>\n",
       "      <td>I use take another oral contraceptive 21 pill ...</td>\n",
       "      <td>0.067210</td>\n",
       "      <td>0.048580</td>\n",
       "      <td>80</td>\n",
       "      <td>54</td>\n",
       "      <td>30</td>\n",
       "      <td>6</td>\n",
       "      <td>15</td>\n",
       "      <td>57</td>\n",
       "      <td>4.800000</td>\n",
       "    </tr>\n",
       "    <tr>\n",
       "      <th>3</th>\n",
       "      <td>138000</td>\n",
       "      <td>2446</td>\n",
       "      <td>175</td>\n",
       "      <td>\"This is my first time using any form of birth...</td>\n",
       "      <td>8</td>\n",
       "      <td>2015-11-03</td>\n",
       "      <td>10</td>\n",
       "      <td>2015</td>\n",
       "      <td>11</td>\n",
       "      <td>3</td>\n",
       "      <td>first time use form birth control I glad I go ...</td>\n",
       "      <td>0.179545</td>\n",
       "      <td>0.306250</td>\n",
       "      <td>49</td>\n",
       "      <td>32</td>\n",
       "      <td>13</td>\n",
       "      <td>4</td>\n",
       "      <td>9</td>\n",
       "      <td>43</td>\n",
       "      <td>4.163265</td>\n",
       "    </tr>\n",
       "    <tr>\n",
       "      <th>4</th>\n",
       "      <td>35696</td>\n",
       "      <td>553</td>\n",
       "      <td>593</td>\n",
       "      <td>\"Suboxone has completely turned my life around...</td>\n",
       "      <td>9</td>\n",
       "      <td>2016-11-27</td>\n",
       "      <td>37</td>\n",
       "      <td>2016</td>\n",
       "      <td>11</td>\n",
       "      <td>27</td>\n",
       "      <td>suboxone completely turn life around I feel he...</td>\n",
       "      <td>0.194444</td>\n",
       "      <td>0.242333</td>\n",
       "      <td>68</td>\n",
       "      <td>52</td>\n",
       "      <td>20</td>\n",
       "      <td>7</td>\n",
       "      <td>15</td>\n",
       "      <td>61</td>\n",
       "      <td>5.205882</td>\n",
       "    </tr>\n",
       "  </tbody>\n",
       "</table>\n",
       "</div>"
      ],
      "text/plain": [
       "   uniqueid  drugname  condition  \\\n",
       "0    206461      3421        480   \n",
       "1     95260      1536         80   \n",
       "2     92703      1983        175   \n",
       "3    138000      2446        175   \n",
       "4     35696       553        593   \n",
       "\n",
       "                                              review  rating       date  \\\n",
       "0  \"It has no side effect, I take it in combinati...       9 2012-05-20   \n",
       "1  \"My son is halfway through his fourth week of ...       8 2010-04-27   \n",
       "2  \"I used to take another oral contraceptive, wh...       5 2009-12-14   \n",
       "3  \"This is my first time using any form of birth...       8 2015-11-03   \n",
       "4  \"Suboxone has completely turned my life around...       9 2016-11-27   \n",
       "\n",
       "   usefulcount  year  month  day  \\\n",
       "0           27  2012      5   20   \n",
       "1          192  2010      4   27   \n",
       "2           17  2009     12   14   \n",
       "3           10  2015     11    3   \n",
       "4           37  2016     11   27   \n",
       "\n",
       "                                        review_clean  sentiment  \\\n",
       "0  no side effect I take combination bystolic 5 m...   0.000000   \n",
       "1  son halfway fourth week intuniv become concern...   0.168333   \n",
       "2  I use take another oral contraceptive 21 pill ...   0.067210   \n",
       "3  first time use form birth control I glad I go ...   0.179545   \n",
       "4  suboxone completely turn life around I feel he...   0.194444   \n",
       "\n",
       "   sentiment_processed  word_count  unique_word_count  count_punc  \\\n",
       "0             0.000000          11                 11           3   \n",
       "1             0.129722          68                 57          23   \n",
       "2             0.048580          80                 54          30   \n",
       "3             0.306250          49                 32          13   \n",
       "4             0.242333          68                 52          20   \n",
       "\n",
       "   upper_word_count  title_word_count  stopword_count  mean_word_len  \n",
       "0                 1                 6               6       4.181818  \n",
       "1                 2                13              68       5.073529  \n",
       "2                 6                15              57       4.800000  \n",
       "3                 4                 9              43       4.163265  \n",
       "4                 7                15              61       5.205882  "
      ]
     },
     "execution_count": 50,
     "metadata": {},
     "output_type": "execute_result"
    }
   ],
   "source": [
    "df_data.head()"
   ]
  },
  {
   "cell_type": "code",
   "execution_count": 51,
   "metadata": {
    "colab": {
     "background_save": true
    },
    "id": "HdfpOOEAvikA"
   },
   "outputs": [],
   "source": [
    "# Giving the Sentiment according to the ratings\n",
    "df_data['sentiment_rate'] = df_data['rating'].apply(lambda x: 1 if x > 5 else 0)"
   ]
  },
  {
   "cell_type": "code",
   "execution_count": 52,
   "metadata": {
    "colab": {
     "background_save": true
    },
    "id": "OimVf4STvld2",
    "outputId": "e03b6393-39ae-4938-98c7-40d9a6530711"
   },
   "outputs": [
    {
     "data": {
      "text/html": [
       "<div>\n",
       "<style scoped>\n",
       "    .dataframe tbody tr th:only-of-type {\n",
       "        vertical-align: middle;\n",
       "    }\n",
       "\n",
       "    .dataframe tbody tr th {\n",
       "        vertical-align: top;\n",
       "    }\n",
       "\n",
       "    .dataframe thead th {\n",
       "        text-align: right;\n",
       "    }\n",
       "</style>\n",
       "<table border=\"1\" class=\"dataframe\">\n",
       "  <thead>\n",
       "    <tr style=\"text-align: right;\">\n",
       "      <th></th>\n",
       "      <th>uniqueid</th>\n",
       "      <th>drugname</th>\n",
       "      <th>condition</th>\n",
       "      <th>review</th>\n",
       "      <th>rating</th>\n",
       "      <th>date</th>\n",
       "      <th>usefulcount</th>\n",
       "      <th>year</th>\n",
       "      <th>month</th>\n",
       "      <th>day</th>\n",
       "      <th>...</th>\n",
       "      <th>sentiment</th>\n",
       "      <th>sentiment_processed</th>\n",
       "      <th>word_count</th>\n",
       "      <th>unique_word_count</th>\n",
       "      <th>count_punc</th>\n",
       "      <th>upper_word_count</th>\n",
       "      <th>title_word_count</th>\n",
       "      <th>stopword_count</th>\n",
       "      <th>mean_word_len</th>\n",
       "      <th>sentiment_rate</th>\n",
       "    </tr>\n",
       "  </thead>\n",
       "  <tbody>\n",
       "    <tr>\n",
       "      <th>0</th>\n",
       "      <td>206461</td>\n",
       "      <td>3421</td>\n",
       "      <td>480</td>\n",
       "      <td>\"It has no side effect, I take it in combinati...</td>\n",
       "      <td>9</td>\n",
       "      <td>2012-05-20</td>\n",
       "      <td>27</td>\n",
       "      <td>2012</td>\n",
       "      <td>5</td>\n",
       "      <td>20</td>\n",
       "      <td>...</td>\n",
       "      <td>0.000000</td>\n",
       "      <td>0.000000</td>\n",
       "      <td>11</td>\n",
       "      <td>11</td>\n",
       "      <td>3</td>\n",
       "      <td>1</td>\n",
       "      <td>6</td>\n",
       "      <td>6</td>\n",
       "      <td>4.181818</td>\n",
       "      <td>1</td>\n",
       "    </tr>\n",
       "    <tr>\n",
       "      <th>1</th>\n",
       "      <td>95260</td>\n",
       "      <td>1536</td>\n",
       "      <td>80</td>\n",
       "      <td>\"My son is halfway through his fourth week of ...</td>\n",
       "      <td>8</td>\n",
       "      <td>2010-04-27</td>\n",
       "      <td>192</td>\n",
       "      <td>2010</td>\n",
       "      <td>4</td>\n",
       "      <td>27</td>\n",
       "      <td>...</td>\n",
       "      <td>0.168333</td>\n",
       "      <td>0.129722</td>\n",
       "      <td>68</td>\n",
       "      <td>57</td>\n",
       "      <td>23</td>\n",
       "      <td>2</td>\n",
       "      <td>13</td>\n",
       "      <td>68</td>\n",
       "      <td>5.073529</td>\n",
       "      <td>1</td>\n",
       "    </tr>\n",
       "    <tr>\n",
       "      <th>2</th>\n",
       "      <td>92703</td>\n",
       "      <td>1983</td>\n",
       "      <td>175</td>\n",
       "      <td>\"I used to take another oral contraceptive, wh...</td>\n",
       "      <td>5</td>\n",
       "      <td>2009-12-14</td>\n",
       "      <td>17</td>\n",
       "      <td>2009</td>\n",
       "      <td>12</td>\n",
       "      <td>14</td>\n",
       "      <td>...</td>\n",
       "      <td>0.067210</td>\n",
       "      <td>0.048580</td>\n",
       "      <td>80</td>\n",
       "      <td>54</td>\n",
       "      <td>30</td>\n",
       "      <td>6</td>\n",
       "      <td>15</td>\n",
       "      <td>57</td>\n",
       "      <td>4.800000</td>\n",
       "      <td>0</td>\n",
       "    </tr>\n",
       "    <tr>\n",
       "      <th>3</th>\n",
       "      <td>138000</td>\n",
       "      <td>2446</td>\n",
       "      <td>175</td>\n",
       "      <td>\"This is my first time using any form of birth...</td>\n",
       "      <td>8</td>\n",
       "      <td>2015-11-03</td>\n",
       "      <td>10</td>\n",
       "      <td>2015</td>\n",
       "      <td>11</td>\n",
       "      <td>3</td>\n",
       "      <td>...</td>\n",
       "      <td>0.179545</td>\n",
       "      <td>0.306250</td>\n",
       "      <td>49</td>\n",
       "      <td>32</td>\n",
       "      <td>13</td>\n",
       "      <td>4</td>\n",
       "      <td>9</td>\n",
       "      <td>43</td>\n",
       "      <td>4.163265</td>\n",
       "      <td>1</td>\n",
       "    </tr>\n",
       "    <tr>\n",
       "      <th>4</th>\n",
       "      <td>35696</td>\n",
       "      <td>553</td>\n",
       "      <td>593</td>\n",
       "      <td>\"Suboxone has completely turned my life around...</td>\n",
       "      <td>9</td>\n",
       "      <td>2016-11-27</td>\n",
       "      <td>37</td>\n",
       "      <td>2016</td>\n",
       "      <td>11</td>\n",
       "      <td>27</td>\n",
       "      <td>...</td>\n",
       "      <td>0.194444</td>\n",
       "      <td>0.242333</td>\n",
       "      <td>68</td>\n",
       "      <td>52</td>\n",
       "      <td>20</td>\n",
       "      <td>7</td>\n",
       "      <td>15</td>\n",
       "      <td>61</td>\n",
       "      <td>5.205882</td>\n",
       "      <td>1</td>\n",
       "    </tr>\n",
       "  </tbody>\n",
       "</table>\n",
       "<p>5 rows × 21 columns</p>\n",
       "</div>"
      ],
      "text/plain": [
       "   uniqueid  drugname  condition  \\\n",
       "0    206461      3421        480   \n",
       "1     95260      1536         80   \n",
       "2     92703      1983        175   \n",
       "3    138000      2446        175   \n",
       "4     35696       553        593   \n",
       "\n",
       "                                              review  rating       date  \\\n",
       "0  \"It has no side effect, I take it in combinati...       9 2012-05-20   \n",
       "1  \"My son is halfway through his fourth week of ...       8 2010-04-27   \n",
       "2  \"I used to take another oral contraceptive, wh...       5 2009-12-14   \n",
       "3  \"This is my first time using any form of birth...       8 2015-11-03   \n",
       "4  \"Suboxone has completely turned my life around...       9 2016-11-27   \n",
       "\n",
       "   usefulcount  year  month  day  ... sentiment  sentiment_processed  \\\n",
       "0           27  2012      5   20  ...  0.000000             0.000000   \n",
       "1          192  2010      4   27  ...  0.168333             0.129722   \n",
       "2           17  2009     12   14  ...  0.067210             0.048580   \n",
       "3           10  2015     11    3  ...  0.179545             0.306250   \n",
       "4           37  2016     11   27  ...  0.194444             0.242333   \n",
       "\n",
       "   word_count  unique_word_count  count_punc  upper_word_count  \\\n",
       "0          11                 11           3                 1   \n",
       "1          68                 57          23                 2   \n",
       "2          80                 54          30                 6   \n",
       "3          49                 32          13                 4   \n",
       "4          68                 52          20                 7   \n",
       "\n",
       "   title_word_count  stopword_count  mean_word_len  sentiment_rate  \n",
       "0                 6               6       4.181818               1  \n",
       "1                13              68       5.073529               1  \n",
       "2                15              57       4.800000               0  \n",
       "3                 9              43       4.163265               1  \n",
       "4                15              61       5.205882               1  \n",
       "\n",
       "[5 rows x 21 columns]"
      ]
     },
     "execution_count": 52,
     "metadata": {},
     "output_type": "execute_result"
    }
   ],
   "source": [
    "df_data.head()"
   ]
  },
  {
   "cell_type": "markdown",
   "metadata": {
    "id": "o2plusKWS5nK"
   },
   "source": [
    "### Model Building on all features"
   ]
  },
  {
   "cell_type": "code",
   "execution_count": 53,
   "metadata": {
    "colab": {
     "background_save": true
    },
    "id": "X74ZZSo7S5nL"
   },
   "outputs": [],
   "source": [
    "X_train = df_data[df_data['uniqueid'].isin(df_train['uniqueID'])].filter(['condition','year','month','day','word_count', 'usefulcount',\n",
    "                                                                          'sentiment_processed','unique_word_count','upper_word_count',\n",
    "                                                                          'count_punc','title_word_count','stopword_count','mean_word_len'])\n",
    "X_test = df_data[df_data['uniqueid'].isin(df_test['uniqueID'])].filter(['condition','year','month','day','word_count', 'usefulcount',\n",
    "                                                                          'sentiment_processed','unique_word_count','upper_word_count',\n",
    "                                                                          'count_punc','title_word_count','stopword_count','mean_word_len'])\n",
    "y_train = df_data[df_data['uniqueid'].isin(df_train['uniqueID'])]['sentiment_rate']\n",
    "y_test = df_data[df_data['uniqueid'].isin(df_test['uniqueID'])]['sentiment_rate']"
   ]
  },
  {
   "cell_type": "code",
   "execution_count": 54,
   "metadata": {
    "colab": {
     "background_save": true
    },
    "id": "BCxw93zi3Fq2",
    "outputId": "02ce0e99-fe11-4731-f5cf-63c1366796fa"
   },
   "outputs": [
    {
     "data": {
      "text/plain": [
       "Index(['condition', 'year', 'month', 'day', 'word_count', 'usefulcount',\n",
       "       'sentiment_processed', 'unique_word_count', 'upper_word_count',\n",
       "       'count_punc', 'title_word_count', 'stopword_count', 'mean_word_len'],\n",
       "      dtype='object')"
      ]
     },
     "execution_count": 54,
     "metadata": {},
     "output_type": "execute_result"
    }
   ],
   "source": [
    "X_train.columns"
   ]
  },
  {
   "cell_type": "code",
   "execution_count": 55,
   "metadata": {
    "colab": {
     "background_save": true
    },
    "id": "YDOX2MjAS5nL",
    "outputId": "6d1f9f11-c990-4e5e-aac8-ff093ee83a81"
   },
   "outputs": [
    {
     "name": "stdout",
     "output_type": "stream",
     "text": [
      "The Accuracy of the model is :  0.8851714013203419 \n",
      "\n",
      "The confusion Matrix is \n",
      "\n",
      "[[12795  3324]\n",
      " [ 2816 34536]] \n",
      "\n",
      "              precision    recall  f1-score   support\n",
      "\n",
      "           0       0.82      0.79      0.81     16119\n",
      "           1       0.91      0.92      0.92     37352\n",
      "\n",
      "    accuracy                           0.89     53471\n",
      "   macro avg       0.87      0.86      0.86     53471\n",
      "weighted avg       0.88      0.89      0.88     53471\n",
      "\n"
     ]
    }
   ],
   "source": [
    "clf = LGBMClassifier(\n",
    "        n_estimators=10000,\n",
    "        learning_rate=1,\n",
    "        num_leaves=200,\n",
    "        subsample=.9,\n",
    "        max_depth=7,\n",
    "        reg_alpha=.1,\n",
    "        reg_lambda=.1,\n",
    "        min_split_gain=.01,\n",
    "        min_child_weight=2,\n",
    "        silent=-1,\n",
    "        verbose=-1,\n",
    "        num_iterations=3000\n",
    ")\n",
    "model = clf.fit(X_train, y_train)\n",
    "\n",
    "# Predictions\n",
    "predictions_ml = model.predict(X_test)\n",
    "print (\"The Accuracy of the model is : \", accuracy_score(y_test, predictions_ml), '\\n')\n",
    "print (\"The confusion Matrix is \\n\")\n",
    "print (confusion_matrix(y_test, predictions_ml), '\\n')\n",
    "\n",
    "print (classification_report(y_test, predictions_ml))"
   ]
  },
  {
   "cell_type": "code",
   "execution_count": 56,
   "metadata": {
    "colab": {
     "base_uri": "https://localhost:8080/"
    },
    "id": "MsQA9YkZS5nM",
    "outputId": "36788663-6cd4-46d7-e50c-08ae83d34b65"
   },
   "outputs": [
    {
     "name": "stdout",
     "output_type": "stream",
     "text": [
      "The Accuracy of the model is :  0.7782162293579697 \n",
      "\n",
      "The confusion Matrix is \n",
      "\n",
      "[[ 7731  8388]\n",
      " [ 3471 33881]] \n",
      "\n",
      "              precision    recall  f1-score   support\n",
      "\n",
      "           0       0.69      0.48      0.57     16119\n",
      "           1       0.80      0.91      0.85     37352\n",
      "\n",
      "    accuracy                           0.78     53471\n",
      "   macro avg       0.75      0.69      0.71     53471\n",
      "weighted avg       0.77      0.78      0.77     53471\n",
      "\n"
     ]
    }
   ],
   "source": [
    "xgb_clf = XGBClassifier()\n",
    "\n",
    "model_xgb = xgb_clf.fit(X_train, y_train)\n",
    "\n",
    "# Predictions\n",
    "predictions_xgb = model_xgb.predict(X_test)\n",
    "print (\"The Accuracy of the model is : \", accuracy_score(y_test, predictions_xgb), '\\n')\n",
    "print (\"The confusion Matrix is \\n\")\n",
    "print (confusion_matrix(y_test, predictions_xgb), '\\n')\n",
    "\n",
    "print (classification_report(y_test, predictions_xgb))"
   ]
  },
  {
   "cell_type": "code",
   "execution_count": 57,
   "metadata": {
    "colab": {
     "base_uri": "https://localhost:8080/",
     "height": 235
    },
    "id": "K6O1uvuM2uEC",
    "outputId": "f9a5c45f-bd78-47a6-a932-08a6022a9685"
   },
   "outputs": [
    {
     "name": "stdout",
     "output_type": "stream",
     "text": [
      "LR: 0.704049 (0.001033)\n",
      "[[  151 15968]\n",
      " [  120 37232]] \n",
      "\n",
      "              precision    recall  f1-score   support\n",
      "\n",
      "           0       0.56      0.01      0.02     16119\n",
      "           1       0.70      1.00      0.82     37352\n",
      "\n",
      "    accuracy                           0.70     53471\n",
      "   macro avg       0.63      0.50      0.42     53471\n",
      "weighted avg       0.66      0.70      0.58     53471\n",
      "\n",
      "LDA: 0.746986 (0.001593)\n",
      "[[ 4680 11439]\n",
      " [ 2268 35084]] \n",
      "\n",
      "              precision    recall  f1-score   support\n",
      "\n",
      "           0       0.67      0.29      0.41     16119\n",
      "           1       0.75      0.94      0.84     37352\n",
      "\n",
      "    accuracy                           0.74     53471\n",
      "   macro avg       0.71      0.61      0.62     53471\n",
      "weighted avg       0.73      0.74      0.71     53471\n",
      "\n",
      "KNN: 0.710040 (0.002445)\n",
      "[[ 7175  8944]\n",
      " [ 5819 31533]] \n",
      "\n",
      "              precision    recall  f1-score   support\n",
      "\n",
      "           0       0.55      0.45      0.49     16119\n",
      "           1       0.78      0.84      0.81     37352\n",
      "\n",
      "    accuracy                           0.72     53471\n",
      "   macro avg       0.67      0.64      0.65     53471\n",
      "weighted avg       0.71      0.72      0.71     53471\n",
      "\n",
      "DT: 0.826307 (0.001212)\n",
      "[[12638  3481]\n",
      " [ 3779 33573]] \n",
      "\n",
      "              precision    recall  f1-score   support\n",
      "\n",
      "           0       0.77      0.78      0.78     16119\n",
      "           1       0.91      0.90      0.90     37352\n",
      "\n",
      "    accuracy                           0.86     53471\n",
      "   macro avg       0.84      0.84      0.84     53471\n",
      "weighted avg       0.86      0.86      0.86     53471\n",
      "\n",
      "NB: 0.732615 (0.001610)\n",
      "[[ 8700  7419]\n",
      " [ 6837 30515]] \n",
      "\n",
      "              precision    recall  f1-score   support\n",
      "\n",
      "           0       0.56      0.54      0.55     16119\n",
      "           1       0.80      0.82      0.81     37352\n",
      "\n",
      "    accuracy                           0.73     53471\n",
      "   macro avg       0.68      0.68      0.68     53471\n",
      "weighted avg       0.73      0.73      0.73     53471\n",
      "\n",
      "RF: 0.873496 (0.000995)\n",
      "[[12463  3656]\n",
      " [ 1714 35638]] \n",
      "\n",
      "              precision    recall  f1-score   support\n",
      "\n",
      "           0       0.88      0.77      0.82     16119\n",
      "           1       0.91      0.95      0.93     37352\n",
      "\n",
      "    accuracy                           0.90     53471\n",
      "   macro avg       0.89      0.86      0.88     53471\n",
      "weighted avg       0.90      0.90      0.90     53471\n",
      "\n"
     ]
    },
    {
     "data": {
      "image/png": "[encoded data removed]",
      "text/plain": [
       "<Figure size 1368x576 with 1 Axes>"
      ]
     },
     "metadata": {},
     "output_type": "display_data"
    }
   ],
   "source": [
    "models = []\n",
    "models.append(('LR', LogisticRegression()))\n",
    "models.append(('LDA', LinearDiscriminantAnalysis()))\n",
    "models.append(('KNN', KNeighborsClassifier()))\n",
    "models.append(('DT', DecisionTreeClassifier()))\n",
    "models.append(('NB', GaussianNB()))\n",
    "models.append(('RF', RandomForestClassifier()))\n",
    "# evaluate each model in turn\n",
    "results = []\n",
    "names = []\n",
    "scoring = 'accuracy'\n",
    "for name, model in models:\n",
    "    cv_results = model_selection.cross_val_score(model, X_train, y_train, scoring=scoring)\n",
    "    results.append(cv_results)\n",
    "    names.append(name)\n",
    "    msg = \"%s: %f (%f)\" % (name, cv_results.mean(), cv_results.std())\n",
    "    print(msg)\n",
    "    m = model.fit(X_train,y_train)\n",
    "    predictions_3 = m.predict(X_test)\n",
    "    print (confusion_matrix(y_test, predictions_3), '\\n')\n",
    "    print (classification_report(y_test, predictions_3))\n",
    "# boxplot algorithm comparison\n",
    "fig = plt.figure()\n",
    "fig.suptitle('Algorithm Comparison')\n",
    "ax = fig.add_subplot(111)\n",
    "plt.boxplot(results)\n",
    "ax.set_xticklabels(names)\n",
    "plt.show()"
   ]
  },
  {
   "cell_type": "code",
   "execution_count": null,
   "metadata": {
    "id": "nFxijK_6bbmS"
   },
   "outputs": [],
   "source": []
  },
  {
   "cell_type": "markdown",
   "metadata": {
    "id": "Zl9b2KgEbRmT"
   },
   "source": [
    "### n-gram Model Building on review column"
   ]
  },
  {
   "cell_type": "code",
   "execution_count": 58,
   "metadata": {
    "colab": {
     "base_uri": "https://localhost:8080/"
    },
    "id": "Sq7jTqp7S5nU",
    "outputId": "ce43c21a-cb3e-4bfb-da37-25caf9fcad5d"
   },
   "outputs": [
    {
     "data": {
      "text/plain": [
       "0         no side effect I take combination bystolic 5 m...\n",
       "1         son halfway fourth week intuniv become concern...\n",
       "2         I use take another oral contraceptive 21 pill ...\n",
       "3         first time use form birth control I glad I go ...\n",
       "4         suboxone completely turn life around I feel he...\n",
       "                                ...                        \n",
       "213864    I take tamoxifen 5 year side effect severe swe...\n",
       "213865    I take lexapro escitaploprgram since february ...\n",
       "213866    I married 34 year old I no kid take pill hassl...\n",
       "213867    I prescribe nucynta severe neckshoulder pain t...\n",
       "213868                                                 work\n",
       "Name: review_clean, Length: 213869, dtype: object"
      ]
     },
     "execution_count": 58,
     "metadata": {},
     "output_type": "execute_result"
    }
   ],
   "source": [
    "df_data.review_clean"
   ]
  },
  {
   "cell_type": "code",
   "execution_count": 59,
   "metadata": {
    "id": "iJwXpSaD86gj"
   },
   "outputs": [],
   "source": [
    "X_train_features = df_data[df_data['uniqueid'].isin(df_train['uniqueID'])].filter(['review_clean'])\n",
    "X_test_features = df_data[df_data['uniqueid'].isin(df_test['uniqueID'])].filter(['review_clean'])\n",
    "y_train_ngram = df_data[df_data['uniqueid'].isin(df_train['uniqueID'])]['sentiment_rate']\n",
    "y_test_ngram = df_data[df_data['uniqueid'].isin(df_test['uniqueID'])]['sentiment_rate']"
   ]
  },
  {
   "cell_type": "code",
   "execution_count": null,
   "metadata": {
    "id": "mBAeI6Hf9d3G"
   },
   "outputs": [],
   "source": []
  },
  {
   "cell_type": "code",
   "execution_count": 60,
   "metadata": {
    "colab": {
     "base_uri": "https://localhost:8080/"
    },
    "id": "GjPnXLA395ZQ",
    "outputId": "6fbaf16b-dc21-4ec0-ce9c-01c93afdd95f"
   },
   "outputs": [
    {
     "data": {
      "text/html": [
       "<style>#sk-container-id-1 {color: black;background-color: white;}#sk-container-id-1 pre{padding: 0;}#sk-container-id-1 div.sk-toggleable {background-color: white;}#sk-container-id-1 label.sk-toggleable__label {cursor: pointer;display: block;width: 100%;margin-bottom: 0;padding: 0.3em;box-sizing: border-box;text-align: center;}#sk-container-id-1 label.sk-toggleable__label-arrow:before {content: \"▸\";float: left;margin-right: 0.25em;color: #696969;}#sk-container-id-1 label.sk-toggleable__label-arrow:hover:before {color: black;}#sk-container-id-1 div.sk-estimator:hover label.sk-toggleable__label-arrow:before {color: black;}#sk-container-id-1 div.sk-toggleable__content {max-height: 0;max-width: 0;overflow: hidden;text-align: left;background-color: #f0f8ff;}#sk-container-id-1 div.sk-toggleable__content pre {margin: 0.2em;color: black;border-radius: 0.25em;background-color: #f0f8ff;}#sk-container-id-1 input.sk-toggleable__control:checked~div.sk-toggleable__content {max-height: 200px;max-width: 100%;overflow: auto;}#sk-container-id-1 input.sk-toggleable__control:checked~label.sk-toggleable__label-arrow:before {content: \"▾\";}#sk-container-id-1 div.sk-estimator input.sk-toggleable__control:checked~label.sk-toggleable__label {background-color: #d4ebff;}#sk-container-id-1 div.sk-label input.sk-toggleable__control:checked~label.sk-toggleable__label {background-color: #d4ebff;}#sk-container-id-1 input.sk-hidden--visually {border: 0;clip: rect(1px 1px 1px 1px);clip: rect(1px, 1px, 1px, 1px);height: 1px;margin: -1px;overflow: hidden;padding: 0;position: absolute;width: 1px;}#sk-container-id-1 div.sk-estimator {font-family: monospace;background-color: #f0f8ff;border: 1px dotted black;border-radius: 0.25em;box-sizing: border-box;margin-bottom: 0.5em;}#sk-container-id-1 div.sk-estimator:hover {background-color: #d4ebff;}#sk-container-id-1 div.sk-parallel-item::after {content: \"\";width: 100%;border-bottom: 1px solid gray;flex-grow: 1;}#sk-container-id-1 div.sk-label:hover label.sk-toggleable__label {background-color: #d4ebff;}#sk-container-id-1 div.sk-serial::before {content: \"\";position: absolute;border-left: 1px solid gray;box-sizing: border-box;top: 0;bottom: 0;left: 50%;z-index: 0;}#sk-container-id-1 div.sk-serial {display: flex;flex-direction: column;align-items: center;background-color: white;padding-right: 0.2em;padding-left: 0.2em;position: relative;}#sk-container-id-1 div.sk-item {position: relative;z-index: 1;}#sk-container-id-1 div.sk-parallel {display: flex;align-items: stretch;justify-content: center;background-color: white;position: relative;}#sk-container-id-1 div.sk-item::before, #sk-container-id-1 div.sk-parallel-item::before {content: \"\";position: absolute;border-left: 1px solid gray;box-sizing: border-box;top: 0;bottom: 0;left: 50%;z-index: -1;}#sk-container-id-1 div.sk-parallel-item {display: flex;flex-direction: column;z-index: 1;position: relative;background-color: white;}#sk-container-id-1 div.sk-parallel-item:first-child::after {align-self: flex-end;width: 50%;}#sk-container-id-1 div.sk-parallel-item:last-child::after {align-self: flex-start;width: 50%;}#sk-container-id-1 div.sk-parallel-item:only-child::after {width: 0;}#sk-container-id-1 div.sk-dashed-wrapped {border: 1px dashed gray;margin: 0 0.4em 0.5em 0.4em;box-sizing: border-box;padding-bottom: 0.4em;background-color: white;}#sk-container-id-1 div.sk-label label {font-family: monospace;font-weight: bold;display: inline-block;line-height: 1.2em;}#sk-container-id-1 div.sk-label-container {text-align: center;}#sk-container-id-1 div.sk-container {/* jupyter's `normalize.less` sets `[hidden] { display: none; }` but bootstrap.min.css set `[hidden] { display: none !important; }` so we also need the `!important` here to be able to override the default hidden behavior on the sphinx rendered scikit-learn.org. See: https://github.com/scikit-learn/scikit-learn/issues/21755 */display: inline-block !important;position: relative;}#sk-container-id-1 div.sk-text-repr-fallback {display: none;}</style><div id=\"sk-container-id-1\" class=\"sk-top-container\"><div class=\"sk-text-repr-fallback\"><pre>TfidfVectorizer(max_features=20000, min_df=2, ngram_range=(1, 3))</pre><b>In a Jupyter environment, please rerun this cell to show the HTML representation or trust the notebook. <br />On GitHub, the HTML representation is unable to render, please try loading this page with nbviewer.org.</b></div><div class=\"sk-container\" hidden><div class=\"sk-item\"><div class=\"sk-estimator sk-toggleable\"><input class=\"sk-toggleable__control sk-hidden--visually\" id=\"sk-estimator-id-1\" type=\"checkbox\" checked><label for=\"sk-estimator-id-1\" class=\"sk-toggleable__label sk-toggleable__label-arrow\">TfidfVectorizer</label><div class=\"sk-toggleable__content\"><pre>TfidfVectorizer(max_features=20000, min_df=2, ngram_range=(1, 3))</pre></div></div></div></div></div>"
      ],
      "text/plain": [
       "TfidfVectorizer(max_features=20000, min_df=2, ngram_range=(1, 3))"
      ]
     },
     "execution_count": 60,
     "metadata": {},
     "output_type": "execute_result"
    }
   ],
   "source": [
    "from sklearn.feature_extraction.text import TfidfVectorizer\n",
    "\n",
    "vectorizer = TfidfVectorizer(analyzer = 'word', \n",
    "                             tokenizer = None,\n",
    "                             preprocessor = None, \n",
    "                             stop_words = None, \n",
    "                             min_df = 2,\n",
    "                             ngram_range=(1,3),\n",
    "                             max_features = 20000\n",
    "                            )\n",
    "vectorizer"
   ]
  },
  {
   "cell_type": "code",
   "execution_count": 61,
   "metadata": {
    "colab": {
     "base_uri": "https://localhost:8080/"
    },
    "id": "pNjf3ks59oqW",
    "outputId": "f802eb46-6a78-433d-b63e-48f265d2a800"
   },
   "outputs": [
    {
     "name": "stdout",
     "output_type": "stream",
     "text": [
      "CPU times: total: 57 s\n",
      "Wall time: 1min 48s\n",
      "CPU times: total: 25.8 s\n",
      "Wall time: 38.3 s\n"
     ]
    }
   ],
   "source": [
    "%time X_train_ngram = vectorizer.fit_transform(X_train_features['review_clean']).astype(float)\n",
    "%time X_test_ngram = vectorizer.fit_transform(X_test_features['review_clean']).astype(float)"
   ]
  },
  {
   "cell_type": "code",
   "execution_count": 62,
   "metadata": {
    "colab": {
     "base_uri": "https://localhost:8080/"
    },
    "id": "NuR-mBib_i1p",
    "outputId": "4616c5d2-11b7-4bac-edc6-961d2afd98ec"
   },
   "outputs": [
    {
     "name": "stdout",
     "output_type": "stream",
     "text": [
      "The Accuracy of the model is :  0.626975369826635 \n",
      "\n",
      "The confusion Matrix is \n",
      "\n",
      "[[ 5045 11074]\n",
      " [ 8872 28480]] \n",
      "\n",
      "              precision    recall  f1-score   support\n",
      "\n",
      "           0       0.36      0.31      0.34     16119\n",
      "           1       0.72      0.76      0.74     37352\n",
      "\n",
      "    accuracy                           0.63     53471\n",
      "   macro avg       0.54      0.54      0.54     53471\n",
      "weighted avg       0.61      0.63      0.62     53471\n",
      "\n"
     ]
    }
   ],
   "source": [
    "clf = LGBMClassifier(\n",
    "        n_estimators=10000,\n",
    "        learning_rate=1,\n",
    "        num_leaves=200,\n",
    "        subsample=.9,\n",
    "        max_depth=7,\n",
    "        reg_alpha=.1,\n",
    "        reg_lambda=.1,\n",
    "        min_split_gain=.01,\n",
    "        min_child_weight=2,\n",
    "        silent=-1,\n",
    "        verbose=-1,\n",
    "        num_iterations=3000\n",
    ")\n",
    "model = clf.fit(X_train_ngram, y_train_ngram)\n",
    "\n",
    "# Predictions\n",
    "predictions_ngrams = model.predict(X_test_ngram)\n",
    "print (\"The Accuracy of the model is : \", accuracy_score(y_test_ngram, predictions_ngrams), '\\n')\n",
    "print (\"The confusion Matrix is \\n\")\n",
    "print (confusion_matrix(y_test_ngram, predictions_ngrams), '\\n')\n",
    "\n",
    "print (classification_report(y_test_ngram, predictions_ngrams))"
   ]
  },
  {
   "cell_type": "code",
   "execution_count": null,
   "metadata": {
    "id": "M0xKIbf2AMCP"
   },
   "outputs": [],
   "source": [
    "#predictions_ml"
   ]
  },
  {
   "cell_type": "code",
   "execution_count": null,
   "metadata": {
    "id": "qAR4w1wBST6L"
   },
   "outputs": [],
   "source": [
    "#predictions_ngrams"
   ]
  },
  {
   "cell_type": "code",
   "execution_count": null,
   "metadata": {
    "id": "hjEDhgcLSTwZ"
   },
   "outputs": [],
   "source": []
  },
  {
   "cell_type": "code",
   "execution_count": 63,
   "metadata": {
    "id": "G0Mf_Bk6STfn"
   },
   "outputs": [],
   "source": [
    "X_test['ml_pred'] = predictions_ml\n",
    "X_test['ngrams_pred'] = predictions_ngrams"
   ]
  },
  {
   "cell_type": "code",
   "execution_count": 64,
   "metadata": {
    "colab": {
     "base_uri": "https://localhost:8080/"
    },
    "id": "sW9q8oKG95ZS",
    "outputId": "f9229663-7d03-4952-aec9-50d6b921295b"
   },
   "outputs": [
    {
     "data": {
      "text/plain": [
       "53471"
      ]
     },
     "execution_count": 64,
     "metadata": {},
     "output_type": "execute_result"
    }
   ],
   "source": [
    "len(predictions_ml)"
   ]
  },
  {
   "cell_type": "code",
   "execution_count": 65,
   "metadata": {
    "colab": {
     "base_uri": "https://localhost:8080/"
    },
    "id": "eaupUliY95ZS",
    "outputId": "49ba44b0-a424-473c-d4b0-9b15789867e8"
   },
   "outputs": [
    {
     "data": {
      "text/plain": [
       "(53766, 7)"
      ]
     },
     "execution_count": 65,
     "metadata": {},
     "output_type": "execute_result"
    }
   ],
   "source": [
    "df_test.shape"
   ]
  },
  {
   "cell_type": "code",
   "execution_count": 66,
   "metadata": {
    "colab": {
     "base_uri": "https://localhost:8080/"
    },
    "id": "Hjy6cKvf95ZT",
    "outputId": "de817727-b850-40ef-bd65-acb383536a35"
   },
   "outputs": [
    {
     "data": {
      "text/plain": [
       "53471"
      ]
     },
     "execution_count": 66,
     "metadata": {},
     "output_type": "execute_result"
    }
   ],
   "source": [
    "len(predictions_ngrams)"
   ]
  },
  {
   "cell_type": "markdown",
   "metadata": {
    "id": "mLACHHUcK1k5"
   },
   "source": [
    "# Combining Results from two models"
   ]
  },
  {
   "cell_type": "code",
   "execution_count": 67,
   "metadata": {
    "id": "hx9lzavA95ZT",
    "scrolled": true
   },
   "outputs": [],
   "source": [
    "X_test['final_pred'] = (X_test['ml_pred']+X_test['ngrams_pred'])/2*X_test['usefulcount']"
   ]
  },
  {
   "cell_type": "code",
   "execution_count": 68,
   "metadata": {
    "colab": {
     "base_uri": "https://localhost:8080/"
    },
    "id": "HN_BNUXK95ZT",
    "outputId": "3b3d26aa-19cc-4159-c018-f8fc509a31be"
   },
   "outputs": [
    {
     "data": {
      "text/plain": [
       "Index(['condition', 'year', 'month', 'day', 'word_count', 'usefulcount',\n",
       "       'sentiment_processed', 'unique_word_count', 'upper_word_count',\n",
       "       'count_punc', 'title_word_count', 'stopword_count', 'mean_word_len',\n",
       "       'ml_pred', 'ngrams_pred', 'final_pred'],\n",
       "      dtype='object')"
      ]
     },
     "execution_count": 68,
     "metadata": {},
     "output_type": "execute_result"
    }
   ],
   "source": [
    "X_test.columns"
   ]
  },
  {
   "cell_type": "code",
   "execution_count": 69,
   "metadata": {
    "id": "IKHObZ0k95ZT"
   },
   "outputs": [],
   "source": [
    "X_test['drugname'] = df_data[df_data['uniqueid'].isin(df_test['uniqueID'])].drugname"
   ]
  },
  {
   "cell_type": "code",
   "execution_count": 70,
   "metadata": {
    "id": "g5AG4Kqv95ZT"
   },
   "outputs": [],
   "source": [
    "drug_labels = X_test['drugname'].tolist()\n",
    "condition_labels = X_test['condition'].tolist()\n",
    "X_test.drugname = list(label_encoder_drug.inverse_transform(drug_labels))\n",
    "X_test.condition = label_encoder_condition.inverse_transform(condition_labels)"
   ]
  },
  {
   "cell_type": "markdown",
   "metadata": {
    "id": "XUI42VM_ASiH"
   },
   "source": [
    "# Drugname Predictions"
   ]
  },
  {
   "cell_type": "code",
   "execution_count": 76,
   "metadata": {
    "colab": {
     "base_uri": "https://localhost:8080/",
     "height": 219
    },
    "id": "PCKgePlG95ZU",
    "outputId": "651ae96e-0f31-4b54-fe02-750bf095528b"
   },
   "outputs": [
    {
     "name": "stdout",
     "output_type": "stream",
     "text": [
      "enter a condition Birth Control\n"
     ]
    },
    {
     "data": {
      "text/html": [
       "<div>\n",
       "<style scoped>\n",
       "    .dataframe tbody tr th:only-of-type {\n",
       "        vertical-align: middle;\n",
       "    }\n",
       "\n",
       "    .dataframe tbody tr th {\n",
       "        vertical-align: top;\n",
       "    }\n",
       "\n",
       "    .dataframe thead th {\n",
       "        text-align: right;\n",
       "    }\n",
       "</style>\n",
       "<table border=\"1\" class=\"dataframe\">\n",
       "  <thead>\n",
       "    <tr style=\"text-align: right;\">\n",
       "      <th></th>\n",
       "      <th>drugname</th>\n",
       "      <th>usefulcount</th>\n",
       "    </tr>\n",
       "  </thead>\n",
       "  <tbody>\n",
       "    <tr>\n",
       "      <th>189043</th>\n",
       "      <td>Etonogestrel</td>\n",
       "      <td>730</td>\n",
       "    </tr>\n",
       "    <tr>\n",
       "      <th>208164</th>\n",
       "      <td>Implanon</td>\n",
       "      <td>448</td>\n",
       "    </tr>\n",
       "    <tr>\n",
       "      <th>190396</th>\n",
       "      <td>NuvaRing</td>\n",
       "      <td>312</td>\n",
       "    </tr>\n",
       "    <tr>\n",
       "      <th>199441</th>\n",
       "      <td>Ethinyl estradiol / norethindrone</td>\n",
       "      <td>237</td>\n",
       "    </tr>\n",
       "    <tr>\n",
       "      <th>163147</th>\n",
       "      <td>Levonorgestrel</td>\n",
       "      <td>235</td>\n",
       "    </tr>\n",
       "  </tbody>\n",
       "</table>\n",
       "</div>"
      ],
      "text/plain": [
       "                                 drugname  usefulcount\n",
       "189043                       Etonogestrel          730\n",
       "208164                           Implanon          448\n",
       "190396                           NuvaRing          312\n",
       "199441  Ethinyl estradiol / norethindrone          237\n",
       "163147                     Levonorgestrel          235"
      ]
     },
     "execution_count": 76,
     "metadata": {},
     "output_type": "execute_result"
    }
   ],
   "source": [
    "con = input('enter a condition ')\n",
    "X_test.groupby('condition').get_group(con).sort_values('final_pred',ascending = False).drop_duplicates('drugname',keep='first').head(5)[['drugname','usefulcount']]"
   ]
  },
  {
   "cell_type": "code",
   "execution_count": 75,
   "metadata": {
    "id": "I_5s_Yx795ZU",
    "outputId": "13ac7327-9382-4fa5-bc9d-8a5213cbadfb"
   },
   "outputs": [
    {
     "data": {
      "text/html": [
       "<div>\n",
       "<style scoped>\n",
       "    .dataframe tbody tr th:only-of-type {\n",
       "        vertical-align: middle;\n",
       "    }\n",
       "\n",
       "    .dataframe tbody tr th {\n",
       "        vertical-align: top;\n",
       "    }\n",
       "\n",
       "    .dataframe thead th {\n",
       "        text-align: right;\n",
       "    }\n",
       "</style>\n",
       "<table border=\"1\" class=\"dataframe\">\n",
       "  <thead>\n",
       "    <tr style=\"text-align: right;\">\n",
       "      <th></th>\n",
       "      <th>condition</th>\n",
       "      <th>year</th>\n",
       "      <th>month</th>\n",
       "      <th>day</th>\n",
       "      <th>word_count</th>\n",
       "      <th>usefulcount</th>\n",
       "      <th>sentiment_processed</th>\n",
       "      <th>unique_word_count</th>\n",
       "      <th>upper_word_count</th>\n",
       "      <th>count_punc</th>\n",
       "      <th>title_word_count</th>\n",
       "      <th>stopword_count</th>\n",
       "      <th>mean_word_len</th>\n",
       "      <th>ml_pred</th>\n",
       "      <th>ngrams_pred</th>\n",
       "      <th>final_pred</th>\n",
       "      <th>drugname</th>\n",
       "    </tr>\n",
       "  </thead>\n",
       "  <tbody>\n",
       "    <tr>\n",
       "      <th>160398</th>\n",
       "      <td>Depression</td>\n",
       "      <td>2012</td>\n",
       "      <td>2</td>\n",
       "      <td>28</td>\n",
       "      <td>47</td>\n",
       "      <td>22</td>\n",
       "      <td>-0.300000</td>\n",
       "      <td>38</td>\n",
       "      <td>2</td>\n",
       "      <td>18</td>\n",
       "      <td>4</td>\n",
       "      <td>24</td>\n",
       "      <td>5.553191</td>\n",
       "      <td>1</td>\n",
       "      <td>1</td>\n",
       "      <td>22.0</td>\n",
       "      <td>Mirtazapine</td>\n",
       "    </tr>\n",
       "    <tr>\n",
       "      <th>160399</th>\n",
       "      <td>Crohn's Disease, Maintenance</td>\n",
       "      <td>2009</td>\n",
       "      <td>5</td>\n",
       "      <td>17</td>\n",
       "      <td>26</td>\n",
       "      <td>17</td>\n",
       "      <td>0.483333</td>\n",
       "      <td>25</td>\n",
       "      <td>0</td>\n",
       "      <td>9</td>\n",
       "      <td>4</td>\n",
       "      <td>20</td>\n",
       "      <td>4.807692</td>\n",
       "      <td>1</td>\n",
       "      <td>0</td>\n",
       "      <td>8.5</td>\n",
       "      <td>Mesalamine</td>\n",
       "    </tr>\n",
       "    <tr>\n",
       "      <th>160400</th>\n",
       "      <td>Urinary Tract Infection</td>\n",
       "      <td>2017</td>\n",
       "      <td>9</td>\n",
       "      <td>29</td>\n",
       "      <td>3</td>\n",
       "      <td>3</td>\n",
       "      <td>0.333333</td>\n",
       "      <td>3</td>\n",
       "      <td>0</td>\n",
       "      <td>2</td>\n",
       "      <td>1</td>\n",
       "      <td>1</td>\n",
       "      <td>7.000000</td>\n",
       "      <td>1</td>\n",
       "      <td>1</td>\n",
       "      <td>3.0</td>\n",
       "      <td>Bactrim</td>\n",
       "    </tr>\n",
       "    <tr>\n",
       "      <th>160401</th>\n",
       "      <td>Weight Loss</td>\n",
       "      <td>2017</td>\n",
       "      <td>3</td>\n",
       "      <td>5</td>\n",
       "      <td>81</td>\n",
       "      <td>35</td>\n",
       "      <td>0.189263</td>\n",
       "      <td>62</td>\n",
       "      <td>10</td>\n",
       "      <td>30</td>\n",
       "      <td>14</td>\n",
       "      <td>72</td>\n",
       "      <td>4.641975</td>\n",
       "      <td>1</td>\n",
       "      <td>1</td>\n",
       "      <td>35.0</td>\n",
       "      <td>Contrave</td>\n",
       "    </tr>\n",
       "    <tr>\n",
       "      <th>160402</th>\n",
       "      <td>Birth Control</td>\n",
       "      <td>2015</td>\n",
       "      <td>10</td>\n",
       "      <td>22</td>\n",
       "      <td>84</td>\n",
       "      <td>4</td>\n",
       "      <td>0.209479</td>\n",
       "      <td>58</td>\n",
       "      <td>10</td>\n",
       "      <td>13</td>\n",
       "      <td>17</td>\n",
       "      <td>75</td>\n",
       "      <td>4.440476</td>\n",
       "      <td>1</td>\n",
       "      <td>1</td>\n",
       "      <td>4.0</td>\n",
       "      <td>Cyclafem 1 / 35</td>\n",
       "    </tr>\n",
       "  </tbody>\n",
       "</table>\n",
       "</div>"
      ],
      "text/plain": [
       "                           condition  year  month  day  word_count  \\\n",
       "160398                    Depression  2012      2   28          47   \n",
       "160399  Crohn's Disease, Maintenance  2009      5   17          26   \n",
       "160400       Urinary Tract Infection  2017      9   29           3   \n",
       "160401                   Weight Loss  2017      3    5          81   \n",
       "160402                 Birth Control  2015     10   22          84   \n",
       "\n",
       "        usefulcount  sentiment_processed  unique_word_count  upper_word_count  \\\n",
       "160398           22            -0.300000                 38                 2   \n",
       "160399           17             0.483333                 25                 0   \n",
       "160400            3             0.333333                  3                 0   \n",
       "160401           35             0.189263                 62                10   \n",
       "160402            4             0.209479                 58                10   \n",
       "\n",
       "        count_punc  title_word_count  stopword_count  mean_word_len  ml_pred  \\\n",
       "160398          18                 4              24       5.553191        1   \n",
       "160399           9                 4              20       4.807692        1   \n",
       "160400           2                 1               1       7.000000        1   \n",
       "160401          30                14              72       4.641975        1   \n",
       "160402          13                17              75       4.440476        1   \n",
       "\n",
       "        ngrams_pred  final_pred         drugname  \n",
       "160398            1        22.0      Mirtazapine  \n",
       "160399            0         8.5       Mesalamine  \n",
       "160400            1         3.0          Bactrim  \n",
       "160401            1        35.0         Contrave  \n",
       "160402            1         4.0  Cyclafem 1 / 35  "
      ]
     },
     "execution_count": 75,
     "metadata": {},
     "output_type": "execute_result"
    }
   ],
   "source": [
    "X_test.head()"
   ]
  },
  {
   "cell_type": "code",
   "execution_count": null,
   "metadata": {
    "id": "KqvDxbjL95ZU"
   },
   "outputs": [],
   "source": []
  }
 ],
 "metadata": {
  "colab": {
   "collapsed_sections": [
    "43mpIz_cS5mq"
   ],
   "name": "drug_recommendation_sentiment_analysis.ipynb",
   "provenance": [],
   "toc_visible": true
  },
  "kernelspec": {
   "display_name": "Python 3 (ipykernel)",
   "language": "python",
   "name": "python3"
  },
  "language_info": {
   "codemirror_mode": {
    "name": "ipython",
    "version": 3
   },
   "file_extension": ".py",
   "mimetype": "text/x-python",
   "name": "python",
   "nbconvert_exporter": "python",
   "pygments_lexer": "ipython3",
   "version": "3.10.0"
  }
 },
 "nbformat": 4,
 "nbformat_minor": 1
}
